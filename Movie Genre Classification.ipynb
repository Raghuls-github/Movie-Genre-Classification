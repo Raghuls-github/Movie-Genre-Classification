{
 "cells": [
  {
   "cell_type": "markdown",
   "id": "1943a8d3-8a15-4610-917a-04a5acdedd87",
   "metadata": {},
   "source": [
    "## <center> <u> MOVIE GENRE CLASSIFICATION </u></center>"
   ]
  },
  {
   "cell_type": "markdown",
   "id": "91443719-38a5-4dda-9694-a7c108ed6cad",
   "metadata": {},
   "source": [
    "#### AUTHOR(s): Raghul V, Shreyans Jain\n",
    "----------------"
   ]
  },
  {
   "cell_type": "markdown",
   "id": "f3adec98-ea87-4fa1-b025-d238ee7e6be6",
   "metadata": {},
   "source": [
    "#### Description\n",
    "\n",
    "- The objective of this notebook is to develop a ML algorithm for the classification of the multiple genres of a movie based on their plots.\n",
    "\n",
    "- To do this classification, the kernal is divided into 4 parts which is;\n",
    "\n",
    "    - Part 1: it describes the list libraries being used in this kernel.\n",
    "   \n",
    "    - Part 2: it is about data cleansing and identification of the genres to be used for the classification of the movies. The genres that are used to classify ~96% of movies will be used building the classification algorithms."
   ]
  },
  {
   "cell_type": "markdown",
   "id": "14cca8b5-60e6-40ba-82bd-3581fc219149",
   "metadata": {},
   "source": [
    "#### LIST OF LIBRARIES USED\n",
    "\n",
    "- PANDAS\n",
    "- NUMPY\n",
    "- MATPLOTLIB\n",
    "- SEABORN\n",
    "- PICKLE\n",
    "- nltk\n",
    "- sklearn"
   ]
  },
  {
   "cell_type": "code",
   "execution_count": 1,
   "id": "c6a89150-8b6c-4e6e-ba42-5eacd03ad7f1",
   "metadata": {},
   "outputs": [],
   "source": [
    "import pandas as pd\n",
    "import numpy as np\n",
    "import matplotlib.pyplot as plt\n",
    "%matplotlib inline\n",
    "import seaborn as sns\n",
    "import re\n",
    "\n",
    "import pickle \n",
    "#import mglearn\n",
    "import time"
   ]
  },
  {
   "cell_type": "code",
   "execution_count": 2,
   "id": "e7912fc8-04eb-4a6b-8539-d283576a32cc",
   "metadata": {},
   "outputs": [],
   "source": [
    "from nltk.tokenize import TweetTokenizer # doesn't split at apostrophes\n",
    "import nltk\n",
    "from nltk import Text\n",
    "from nltk.tokenize import regexp_tokenize\n",
    "from nltk.tokenize import word_tokenize  \n",
    "from nltk.tokenize import sent_tokenize \n",
    "from nltk.corpus import stopwords\n",
    "from nltk.stem import WordNetLemmatizer\n",
    "from nltk.stem import PorterStemmer"
   ]
  },
  {
   "cell_type": "code",
   "execution_count": 3,
   "id": "8dd401ec-6f44-4f37-ad9b-ef6a88fa93fa",
   "metadata": {},
   "outputs": [],
   "source": [
    "from sklearn.model_selection import cross_val_score\n",
    "from sklearn.model_selection import train_test_split\n",
    "from sklearn import metrics\n",
    "from sklearn.metrics import classification_report\n",
    "from sklearn.metrics import confusion_matrix\n",
    "from sklearn.model_selection import GridSearchCV\n",
    "from sklearn.pipeline import make_pipeline"
   ]
  },
  {
   "cell_type": "code",
   "execution_count": 4,
   "id": "75d4085d-7cb4-4efb-b266-6c129019081c",
   "metadata": {},
   "outputs": [],
   "source": [
    "from sklearn.feature_extraction.text import CountVectorizer\n",
    "from sklearn.feature_extraction.text import TfidfVectorizer\n",
    "from sklearn.linear_model import LogisticRegression \n",
    "from sklearn.naive_bayes import MultinomialNB\n",
    "from sklearn.multiclass import OneVsRestClassifier"
   ]
  },
  {
   "cell_type": "code",
   "execution_count": 5,
   "id": "5fbfaf37-6ff5-449c-b46d-61c47e5ce946",
   "metadata": {},
   "outputs": [],
   "source": [
    "from sklearn.metrics import accuracy_score\n",
    "from sklearn.svm import LinearSVC"
   ]
  },
  {
   "cell_type": "code",
   "execution_count": 6,
   "id": "a8ed57bf-af40-4ef7-a6df-387498f8e3de",
   "metadata": {},
   "outputs": [
    {
     "name": "stdout",
     "output_type": "stream",
     "text": [
      "There are 34886 rows and 8 columns\n"
     ]
    }
   ],
   "source": [
    "movies = pd.read_csv('/Users/raghul/Downloads/wiki_movie_plot.csv', delimiter=',')\n",
    "movies.dataframeName = 'wiki_movie_plots_deduped.csv'\n",
    "nRow, nCol = movies.shape\n",
    "print(f'There are {nRow} rows and {nCol} columns')"
   ]
  },
  {
   "cell_type": "code",
   "execution_count": 7,
   "id": "8d1c08cc-c6cd-4a13-8224-57f42375bb4e",
   "metadata": {},
   "outputs": [
    {
     "data": {
      "text/html": [
       "<div>\n",
       "<style scoped>\n",
       "    .dataframe tbody tr th:only-of-type {\n",
       "        vertical-align: middle;\n",
       "    }\n",
       "\n",
       "    .dataframe tbody tr th {\n",
       "        vertical-align: top;\n",
       "    }\n",
       "\n",
       "    .dataframe thead th {\n",
       "        text-align: right;\n",
       "    }\n",
       "</style>\n",
       "<table border=\"1\" class=\"dataframe\">\n",
       "  <thead>\n",
       "    <tr style=\"text-align: right;\">\n",
       "      <th></th>\n",
       "      <th>Release Year</th>\n",
       "      <th>Title</th>\n",
       "      <th>Origin/Ethnicity</th>\n",
       "      <th>Director</th>\n",
       "      <th>Cast</th>\n",
       "      <th>Genre</th>\n",
       "      <th>Wiki Page</th>\n",
       "      <th>Plot</th>\n",
       "    </tr>\n",
       "  </thead>\n",
       "  <tbody>\n",
       "    <tr>\n",
       "      <th>0</th>\n",
       "      <td>1901</td>\n",
       "      <td>Kansas Saloon Smashers</td>\n",
       "      <td>American</td>\n",
       "      <td>Unknown</td>\n",
       "      <td>NaN</td>\n",
       "      <td>unknown</td>\n",
       "      <td>https://en.wikipedia.org/wiki/Kansas_Saloon_Sm...</td>\n",
       "      <td>A bartender is working at a saloon, serving dr...</td>\n",
       "    </tr>\n",
       "    <tr>\n",
       "      <th>1</th>\n",
       "      <td>1901</td>\n",
       "      <td>Love by the Light of the Moon</td>\n",
       "      <td>American</td>\n",
       "      <td>Unknown</td>\n",
       "      <td>NaN</td>\n",
       "      <td>unknown</td>\n",
       "      <td>https://en.wikipedia.org/wiki/Love_by_the_Ligh...</td>\n",
       "      <td>The moon, painted with a smiling face hangs ov...</td>\n",
       "    </tr>\n",
       "    <tr>\n",
       "      <th>2</th>\n",
       "      <td>1901</td>\n",
       "      <td>The Martyred Presidents</td>\n",
       "      <td>American</td>\n",
       "      <td>Unknown</td>\n",
       "      <td>NaN</td>\n",
       "      <td>unknown</td>\n",
       "      <td>https://en.wikipedia.org/wiki/The_Martyred_Pre...</td>\n",
       "      <td>The film, just over a minute long, is composed...</td>\n",
       "    </tr>\n",
       "    <tr>\n",
       "      <th>3</th>\n",
       "      <td>1901</td>\n",
       "      <td>Terrible Teddy, the Grizzly King</td>\n",
       "      <td>American</td>\n",
       "      <td>Unknown</td>\n",
       "      <td>NaN</td>\n",
       "      <td>unknown</td>\n",
       "      <td>https://en.wikipedia.org/wiki/Terrible_Teddy,_...</td>\n",
       "      <td>Lasting just 61 seconds and consisting of two ...</td>\n",
       "    </tr>\n",
       "    <tr>\n",
       "      <th>4</th>\n",
       "      <td>1902</td>\n",
       "      <td>Jack and the Beanstalk</td>\n",
       "      <td>American</td>\n",
       "      <td>George S. Fleming, Edwin S. Porter</td>\n",
       "      <td>NaN</td>\n",
       "      <td>unknown</td>\n",
       "      <td>https://en.wikipedia.org/wiki/Jack_and_the_Bea...</td>\n",
       "      <td>The earliest known adaptation of the classic f...</td>\n",
       "    </tr>\n",
       "  </tbody>\n",
       "</table>\n",
       "</div>"
      ],
      "text/plain": [
       "   Release Year                             Title Origin/Ethnicity  \\\n",
       "0          1901            Kansas Saloon Smashers         American   \n",
       "1          1901     Love by the Light of the Moon         American   \n",
       "2          1901           The Martyred Presidents         American   \n",
       "3          1901  Terrible Teddy, the Grizzly King         American   \n",
       "4          1902            Jack and the Beanstalk         American   \n",
       "\n",
       "                             Director Cast    Genre  \\\n",
       "0                             Unknown  NaN  unknown   \n",
       "1                             Unknown  NaN  unknown   \n",
       "2                             Unknown  NaN  unknown   \n",
       "3                             Unknown  NaN  unknown   \n",
       "4  George S. Fleming, Edwin S. Porter  NaN  unknown   \n",
       "\n",
       "                                           Wiki Page  \\\n",
       "0  https://en.wikipedia.org/wiki/Kansas_Saloon_Sm...   \n",
       "1  https://en.wikipedia.org/wiki/Love_by_the_Ligh...   \n",
       "2  https://en.wikipedia.org/wiki/The_Martyred_Pre...   \n",
       "3  https://en.wikipedia.org/wiki/Terrible_Teddy,_...   \n",
       "4  https://en.wikipedia.org/wiki/Jack_and_the_Bea...   \n",
       "\n",
       "                                                Plot  \n",
       "0  A bartender is working at a saloon, serving dr...  \n",
       "1  The moon, painted with a smiling face hangs ov...  \n",
       "2  The film, just over a minute long, is composed...  \n",
       "3  Lasting just 61 seconds and consisting of two ...  \n",
       "4  The earliest known adaptation of the classic f...  "
      ]
     },
     "execution_count": 7,
     "metadata": {},
     "output_type": "execute_result"
    }
   ],
   "source": [
    "movies.head()"
   ]
  },
  {
   "cell_type": "code",
   "execution_count": 8,
   "id": "8207a676-fe93-4b5f-8b32-7c7943e2ea22",
   "metadata": {},
   "outputs": [
    {
     "data": {
      "text/plain": [
       "2265"
      ]
     },
     "execution_count": 8,
     "metadata": {},
     "output_type": "execute_result"
    }
   ],
   "source": [
    "# creation of the column count for aggregation\n",
    "movies['Count']=1\n",
    "movies[['Genre','Count']].groupby(['Genre'], as_index=False).count().shape[0]"
   ]
  },
  {
   "cell_type": "markdown",
   "id": "b99a277f-d289-4109-a631-eed6d060c8c1",
   "metadata": {},
   "source": [
    "There are 2265 different genres movies.\n",
    "\n",
    "- It is not possible to build an ML algorithm having a good accuracy to estimate the genre of movies for the following reasons:\n",
    "\n",
    "    - The number of classes is very high\n",
    "    - Many classes have very few observation."
   ]
  },
  {
   "cell_type": "code",
   "execution_count": 9,
   "id": "56755a03-ddd2-4a5e-bd9f-20b62a3ee369",
   "metadata": {},
   "outputs": [
    {
     "name": "stderr",
     "output_type": "stream",
     "text": [
      "/var/folders/k4/ffhngpcx4z5545d3qcwq0_z40000gn/T/ipykernel_6981/2761400162.py:16: FutureWarning: The default value of regex will change from True to False in a future version.\n",
      "  movies['GenreCorrected']=movies['GenreCorrected'].str.replace(' \\(film genre\\)', '')\n",
      "/var/folders/k4/ffhngpcx4z5545d3qcwq0_z40000gn/T/ipykernel_6981/2761400162.py:21: FutureWarning: The default value of regex will change from True to False in a future version.\n",
      "  movies['GenreCorrected']=movies['GenreCorrected'].str.replace('\\[not in citation given\\]','')\n",
      "/var/folders/k4/ffhngpcx4z5545d3qcwq0_z40000gn/T/ipykernel_6981/2761400162.py:30: FutureWarning: The default value of regex will change from True to False in a future version. In addition, single character regular expressions will*not* be treated as literal strings when regex=True.\n",
      "  movies['GenreCorrected']=movies['GenreCorrected'].str.replace('.','')\n",
      "/var/folders/k4/ffhngpcx4z5545d3qcwq0_z40000gn/T/ipykernel_6981/2761400162.py:35: FutureWarning: The default value of regex will change from True to False in a future version.\n",
      "  movies['GenreCorrected']=movies['GenreCorrected'].str.replace(' (30min)','')\n",
      "/var/folders/k4/ffhngpcx4z5545d3qcwq0_z40000gn/T/ipykernel_6981/2761400162.py:37: FutureWarning: The default value of regex will change from True to False in a future version.\n",
      "  movies['GenreCorrected']=movies['GenreCorrected'].str.replace('\\[140\\]','drama')\n",
      "/var/folders/k4/ffhngpcx4z5545d3qcwq0_z40000gn/T/ipykernel_6981/2761400162.py:38: FutureWarning: The default value of regex will change from True to False in a future version.\n",
      "  movies['GenreCorrected']=movies['GenreCorrected'].str.replace('\\[144\\]','')\n",
      "/var/folders/k4/ffhngpcx4z5545d3qcwq0_z40000gn/T/ipykernel_6981/2761400162.py:46: FutureWarning: The default value of regex will change from True to False in a future version.\n",
      "  movies['GenreCorrected']=movies['GenreCorrected'].str.replace('biography about montreal canadiens star|maurice richard','biography')\n",
      "/var/folders/k4/ffhngpcx4z5545d3qcwq0_z40000gn/T/ipykernel_6981/2761400162.py:47: FutureWarning: The default value of regex will change from True to False in a future version.\n",
      "  movies['GenreCorrected']=movies['GenreCorrected'].str.replace('bholenath movies|cinekorn entertainment','')\n",
      "/var/folders/k4/ffhngpcx4z5545d3qcwq0_z40000gn/T/ipykernel_6981/2761400162.py:48: FutureWarning: The default value of regex will change from True to False in a future version.\n",
      "  movies['GenreCorrected']=movies['GenreCorrected'].str.replace(' \\(volleyball\\)','')\n",
      "/var/folders/k4/ffhngpcx4z5545d3qcwq0_z40000gn/T/ipykernel_6981/2761400162.py:63: FutureWarning: The default value of regex will change from True to False in a future version.\n",
      "  movies['GenreCorrected']=movies['GenreCorrected'].str.replace('movies by the mob\\|knkspl','')\n",
      "/var/folders/k4/ffhngpcx4z5545d3qcwq0_z40000gn/T/ipykernel_6981/2761400162.py:69: FutureWarning: The default value of regex will change from True to False in a future version.\n",
      "  movies['GenreCorrected']=movies['GenreCorrected'].str.replace('(( based).+)','')\n",
      "/var/folders/k4/ffhngpcx4z5545d3qcwq0_z40000gn/T/ipykernel_6981/2761400162.py:70: FutureWarning: The default value of regex will change from True to False in a future version.\n",
      "  movies['GenreCorrected']=movies['GenreCorrected'].str.replace('(( co-produced).+)','')\n",
      "/var/folders/k4/ffhngpcx4z5545d3qcwq0_z40000gn/T/ipykernel_6981/2761400162.py:71: FutureWarning: The default value of regex will change from True to False in a future version.\n",
      "  movies['GenreCorrected']=movies['GenreCorrected'].str.replace('(( adapted).+)','')\n",
      "/var/folders/k4/ffhngpcx4z5545d3qcwq0_z40000gn/T/ipykernel_6981/2761400162.py:72: FutureWarning: The default value of regex will change from True to False in a future version.\n",
      "  movies['GenreCorrected']=movies['GenreCorrected'].str.replace('(( about).+)','')\n",
      "/var/folders/k4/ffhngpcx4z5545d3qcwq0_z40000gn/T/ipykernel_6981/2761400162.py:77: FutureWarning: The default value of regex will change from True to False in a future version.\n",
      "  movies['GenreCorrected']=movies['GenreCorrected'].str.replace(' \\(aquatics|swimming\\)','')\n",
      "/var/folders/k4/ffhngpcx4z5545d3qcwq0_z40000gn/T/ipykernel_6981/2761400162.py:78: FutureWarning: The default value of regex will change from True to False in a future version.\n",
      "  movies['GenreCorrected']=movies['GenreCorrected'].str.replace(' \\(aquatics|swimming\\)','')\n",
      "/var/folders/k4/ffhngpcx4z5545d3qcwq0_z40000gn/T/ipykernel_6981/2761400162.py:79: FutureWarning: The default value of regex will change from True to False in a future version.\n",
      "  movies['GenreCorrected']=movies['GenreCorrected'].str.replace(\"yogesh dattatraya gosavi's directorial debut \\[9\\]\",'')\n",
      "/var/folders/k4/ffhngpcx4z5545d3qcwq0_z40000gn/T/ipykernel_6981/2761400162.py:88: FutureWarning: The default value of regex will change from True to False in a future version.\n",
      "  movies['GenreCorrected']=movies['GenreCorrected'].str.replace('\\|007','')\n",
      "/var/folders/k4/ffhngpcx4z5545d3qcwq0_z40000gn/T/ipykernel_6981/2761400162.py:93: FutureWarning: The default value of regex will change from True to False in a future version.\n",
      "  movies['GenreCorrected']=movies['GenreCorrected'].str.replace(' \\(shogi|chess\\)','')\n",
      "/var/folders/k4/ffhngpcx4z5545d3qcwq0_z40000gn/T/ipykernel_6981/2761400162.py:95: FutureWarning: The default value of regex will change from True to False in a future version.\n",
      "  movies['GenreCorrected']=movies['GenreCorrected'].str.replace('\\|6 separate stories','')\n",
      "/var/folders/k4/ffhngpcx4z5545d3qcwq0_z40000gn/T/ipykernel_6981/2761400162.py:96: FutureWarning: The default value of regex will change from True to False in a future version.\n",
      "  movies['GenreCorrected']=movies['GenreCorrected'].str.replace(' \\(30min\\)','')\n",
      "/var/folders/k4/ffhngpcx4z5545d3qcwq0_z40000gn/T/ipykernel_6981/2761400162.py:97: FutureWarning: The default value of regex will change from True to False in a future version.\n",
      "  movies['GenreCorrected']=movies['GenreCorrected'].str.replace(' (road bicycle racing)','')\n",
      "/var/folders/k4/ffhngpcx4z5545d3qcwq0_z40000gn/T/ipykernel_6981/2761400162.py:100: FutureWarning: The default value of regex will change from True to False in a future version.\n",
      "  movies['GenreCorrected']=movies['GenreCorrected'].str.replace('\\|docudrama','\\|documentary|drama')\n",
      "/var/folders/k4/ffhngpcx4z5545d3qcwq0_z40000gn/T/ipykernel_6981/2761400162.py:102: FutureWarning: The default value of regex will change from True to False in a future version.\n",
      "  movies['GenreCorrected']=movies['GenreCorrected'].str.replace('((adaptation).+)','')\n",
      "/var/folders/k4/ffhngpcx4z5545d3qcwq0_z40000gn/T/ipykernel_6981/2761400162.py:103: FutureWarning: The default value of regex will change from True to False in a future version.\n",
      "  movies['GenreCorrected']=movies['GenreCorrected'].str.replace('((adaptated).+)','')\n",
      "/var/folders/k4/ffhngpcx4z5545d3qcwq0_z40000gn/T/ipykernel_6981/2761400162.py:104: FutureWarning: The default value of regex will change from True to False in a future version.\n",
      "  movies['GenreCorrected']=movies['GenreCorrected'].str.replace('((adapted).+)','')\n",
      "/var/folders/k4/ffhngpcx4z5545d3qcwq0_z40000gn/T/ipykernel_6981/2761400162.py:105: FutureWarning: The default value of regex will change from True to False in a future version.\n",
      "  movies['GenreCorrected']=movies['GenreCorrected'].str.replace('(( on ).+)','')\n",
      "/var/folders/k4/ffhngpcx4z5545d3qcwq0_z40000gn/T/ipykernel_6981/2761400162.py:107: FutureWarning: The default value of regex will change from True to False in a future version.\n",
      "  movies['GenreCorrected']=movies['GenreCorrected'].str.replace('dev\\|nusrat jahan','sports')\n",
      "/var/folders/k4/ffhngpcx4z5545d3qcwq0_z40000gn/T/ipykernel_6981/2761400162.py:109: FutureWarning: The default value of regex will change from True to False in a future version.\n",
      "  movies['GenreCorrected']=movies['GenreCorrected'].str.replace(' \\(artistic\\)','')\n",
      "/var/folders/k4/ffhngpcx4z5545d3qcwq0_z40000gn/T/ipykernel_6981/2761400162.py:110: FutureWarning: The default value of regex will change from True to False in a future version.\n",
      "  movies['GenreCorrected']=movies['GenreCorrected'].str.replace(' \\|direct-to-dvd','')\n",
      "/var/folders/k4/ffhngpcx4z5545d3qcwq0_z40000gn/T/ipykernel_6981/2761400162.py:114: FutureWarning: The default value of regex will change from True to False in a future version.\n",
      "  movies['GenreCorrected']=movies['GenreCorrected'].str.replace('\\|1 girl\\|3 suitors','')\n",
      "/var/folders/k4/ffhngpcx4z5545d3qcwq0_z40000gn/T/ipykernel_6981/2761400162.py:115: FutureWarning: The default value of regex will change from True to False in a future version.\n",
      "  movies['GenreCorrected']=movies['GenreCorrected'].str.replace(' \\(road bicycle racing\\)','')\n",
      "/var/folders/k4/ffhngpcx4z5545d3qcwq0_z40000gn/T/ipykernel_6981/2761400162.py:136: FutureWarning: The default value of regex will change from True to False in a future version.\n",
      "  movies['GenreCorrected']=movies['GenreCorrected'].str.replace('fantasychildren\\|','fantasy|children')\n",
      "/var/folders/k4/ffhngpcx4z5545d3qcwq0_z40000gn/T/ipykernel_6981/2761400162.py:149: FutureWarning: The default value of regex will change from True to False in a future version.\n",
      "  movies['GenreCorrected']=movies['GenreCorrected'].str.replace('\\|\\|','|')\n",
      "/var/folders/k4/ffhngpcx4z5545d3qcwq0_z40000gn/T/ipykernel_6981/2761400162.py:157: FutureWarning: The default value of regex will change from True to False in a future version.\n",
      "  movies['GenreCorrected']=movies['GenreCorrected'].str.replace('\\|\\(children\\|poker\\|karuta\\)','')\n",
      "/var/folders/k4/ffhngpcx4z5545d3qcwq0_z40000gn/T/ipykernel_6981/2761400162.py:163: FutureWarning: The default value of regex will change from True to False in a future version.\n",
      "  movies['GenreCorrected']=movies['GenreCorrected'].str.replace('((\\|produced\\|).+)','')\n",
      "/var/folders/k4/ffhngpcx4z5545d3qcwq0_z40000gn/T/ipykernel_6981/2761400162.py:168: FutureWarning: The default value of regex will change from True to False in a future version.\n",
      "  movies['GenreCorrected']=movies['GenreCorrected'].str.replace('colour\\|yellow\\|productions\\|eros\\|international','')\n",
      "/var/folders/k4/ffhngpcx4z5545d3qcwq0_z40000gn/T/ipykernel_6981/2761400162.py:169: FutureWarning: The default value of regex will change from True to False in a future version.\n",
      "  movies['GenreCorrected']=movies['GenreCorrected'].str.replace('\\|directtodvd','')\n",
      "/var/folders/k4/ffhngpcx4z5545d3qcwq0_z40000gn/T/ipykernel_6981/2761400162.py:188: FutureWarning: The default value of regex will change from True to False in a future version.\n",
      "  movies['GenreCorrected']=movies['GenreCorrected'].str.replace('famil\\|','family')\n",
      "/var/folders/k4/ffhngpcx4z5545d3qcwq0_z40000gn/T/ipykernel_6981/2761400162.py:206: FutureWarning: The default value of regex will change from True to False in a future version.\n",
      "  movies['GenreCorrected']=movies['GenreCorrected'].str.replace('\\|\\(fiction\\)','|fiction')\n",
      "/var/folders/k4/ffhngpcx4z5545d3qcwq0_z40000gn/T/ipykernel_6981/2761400162.py:213: FutureWarning: The default value of regex will change from True to False in a future version.\n",
      "  movies['GenreCorrected']=movies['GenreCorrected'].str.replace('rom\\|com','romance|comedy')\n",
      "/var/folders/k4/ffhngpcx4z5545d3qcwq0_z40000gn/T/ipykernel_6981/2761400162.py:260: FutureWarning: The default value of regex will change from True to False in a future version.\n",
      "  movies['GenreCorrected']=movies['GenreCorrected'].str.replace('\\|–\\|','|')\n"
     ]
    }
   ],
   "source": [
    "# harmonization\n",
    "movies['GenreCorrected'] =movies['Genre'] \n",
    "movies['GenreCorrected']=movies['GenreCorrected'].str.strip()\n",
    "movies['GenreCorrected']=movies['GenreCorrected'].str.replace(' - ', '|')\n",
    "movies['GenreCorrected']=movies['GenreCorrected'].str.replace(' / ', '|')\n",
    "movies['GenreCorrected']=movies['GenreCorrected'].str.replace('/', '|')\n",
    "movies['GenreCorrected']=movies['GenreCorrected'].str.replace(' & ', '|')\n",
    "movies['GenreCorrected']=movies['GenreCorrected'].str.replace(', ', '|')\n",
    "movies['GenreCorrected']=movies['GenreCorrected'].str.replace('; ', '|')\n",
    "movies['GenreCorrected']=movies['GenreCorrected'].str.replace('bio-pic', 'biography')\n",
    "movies['GenreCorrected']=movies['GenreCorrected'].str.replace('biopic', 'biography')\n",
    "movies['GenreCorrected']=movies['GenreCorrected'].str.replace('biographical', 'biography')\n",
    "movies['GenreCorrected']=movies['GenreCorrected'].str.replace('biodrama', 'biography')\n",
    "movies['GenreCorrected']=movies['GenreCorrected'].str.replace('bio-drama', 'biography')\n",
    "movies['GenreCorrected']=movies['GenreCorrected'].str.replace('biographic', 'biography')\n",
    "movies['GenreCorrected']=movies['GenreCorrected'].str.replace(' \\(film genre\\)', '')\n",
    "movies['GenreCorrected']=movies['GenreCorrected'].str.replace('animated','animation')\n",
    "movies['GenreCorrected']=movies['GenreCorrected'].str.replace('anime','animation')\n",
    "movies['GenreCorrected']=movies['GenreCorrected'].str.replace('children\\'s','children')\n",
    "movies['GenreCorrected']=movies['GenreCorrected'].str.replace('comedey','comedy')\n",
    "movies['GenreCorrected']=movies['GenreCorrected'].str.replace('\\[not in citation given\\]','')\n",
    "movies['GenreCorrected']=movies['GenreCorrected'].str.replace(' set 4,000 years ago in the canadian arctic','')\n",
    "movies['GenreCorrected']=movies['GenreCorrected'].str.replace('historical','history')\n",
    "movies['GenreCorrected']=movies['GenreCorrected'].str.replace('romantic','romance')\n",
    "movies['GenreCorrected']=movies['GenreCorrected'].str.replace('3-d','animation')\n",
    "movies['GenreCorrected']=movies['GenreCorrected'].str.replace('3d','animation')\n",
    "movies['GenreCorrected']=movies['GenreCorrected'].str.replace('viacom 18 motion pictures','')\n",
    "movies['GenreCorrected']=movies['GenreCorrected'].str.replace('sci-fi','science_fiction')\n",
    "movies['GenreCorrected']=movies['GenreCorrected'].str.replace('ttriller','thriller')\n",
    "movies['GenreCorrected']=movies['GenreCorrected'].str.replace('.','')\n",
    "movies['GenreCorrected']=movies['GenreCorrected'].str.replace('based on radio serial','')\n",
    "movies['GenreCorrected']=movies['GenreCorrected'].str.replace(' on the early years of hitler','')\n",
    "movies['GenreCorrected']=movies['GenreCorrected'].str.replace('sci fi','science_fiction')\n",
    "movies['GenreCorrected']=movies['GenreCorrected'].str.replace('science fiction','science_fiction')\n",
    "movies['GenreCorrected']=movies['GenreCorrected'].str.replace(' (30min)','')\n",
    "movies['GenreCorrected']=movies['GenreCorrected'].str.replace('16 mm film','short')\n",
    "movies['GenreCorrected']=movies['GenreCorrected'].str.replace('\\[140\\]','drama')\n",
    "movies['GenreCorrected']=movies['GenreCorrected'].str.replace('\\[144\\]','')\n",
    "movies['GenreCorrected']=movies['GenreCorrected'].str.replace(' for ','')\n",
    "movies['GenreCorrected']=movies['GenreCorrected'].str.replace('adventures','adventure')\n",
    "movies['GenreCorrected']=movies['GenreCorrected'].str.replace('kung fu','martial_arts')\n",
    "movies['GenreCorrected']=movies['GenreCorrected'].str.replace('kung-fu','martial_arts')\n",
    "movies['GenreCorrected']=movies['GenreCorrected'].str.replace('martial arts','martial_arts')\n",
    "movies['GenreCorrected']=movies['GenreCorrected'].str.replace('world war ii','war')\n",
    "movies['GenreCorrected']=movies['GenreCorrected'].str.replace('world war i','war')\n",
    "movies['GenreCorrected']=movies['GenreCorrected'].str.replace('biography about montreal canadiens star|maurice richard','biography')\n",
    "movies['GenreCorrected']=movies['GenreCorrected'].str.replace('bholenath movies|cinekorn entertainment','')\n",
    "movies['GenreCorrected']=movies['GenreCorrected'].str.replace(' \\(volleyball\\)','')\n",
    "movies['GenreCorrected']=movies['GenreCorrected'].str.replace('spy film','spy')\n",
    "movies['GenreCorrected']=movies['GenreCorrected'].str.replace('anthology film','anthology')\n",
    "movies['GenreCorrected']=movies['GenreCorrected'].str.replace('biography fim','biography')\n",
    "movies['GenreCorrected']=movies['GenreCorrected'].str.replace('avant-garde','avant_garde')\n",
    "movies['GenreCorrected']=movies['GenreCorrected'].str.replace('biker film','biker')\n",
    "movies['GenreCorrected']=movies['GenreCorrected'].str.replace('buddy cop','buddy')\n",
    "movies['GenreCorrected']=movies['GenreCorrected'].str.replace('buddy film','buddy')\n",
    "movies['GenreCorrected']=movies['GenreCorrected'].str.replace('comedy 2-reeler','comedy')\n",
    "movies['GenreCorrected']=movies['GenreCorrected'].str.replace('films','')\n",
    "movies['GenreCorrected']=movies['GenreCorrected'].str.replace('film','')\n",
    "movies['GenreCorrected']=movies['GenreCorrected'].str.replace('biography of pioneering american photographer eadweard muybridge','biography')\n",
    "movies['GenreCorrected']=movies['GenreCorrected'].str.replace('british-german co-production','')\n",
    "movies['GenreCorrected']=movies['GenreCorrected'].str.replace('bruceploitation','martial_arts')\n",
    "movies['GenreCorrected']=movies['GenreCorrected'].str.replace('comedy-drama adaptation of the mordecai richler novel','comedy-drama')\n",
    "movies['GenreCorrected']=movies['GenreCorrected'].str.replace('movies by the mob\\|knkspl','')\n",
    "movies['GenreCorrected']=movies['GenreCorrected'].str.replace('movies','')\n",
    "movies['GenreCorrected']=movies['GenreCorrected'].str.replace('movie','')\n",
    "movies['GenreCorrected']=movies['GenreCorrected'].str.replace('coming of age','coming_of_age')\n",
    "movies['GenreCorrected']=movies['GenreCorrected'].str.replace('coming-of-age','coming_of_age')\n",
    "movies['GenreCorrected']=movies['GenreCorrected'].str.replace('drama about child soldiers','drama')\n",
    "movies['GenreCorrected']=movies['GenreCorrected'].str.replace('(( based).+)','')\n",
    "movies['GenreCorrected']=movies['GenreCorrected'].str.replace('(( co-produced).+)','')\n",
    "movies['GenreCorrected']=movies['GenreCorrected'].str.replace('(( adapted).+)','')\n",
    "movies['GenreCorrected']=movies['GenreCorrected'].str.replace('(( about).+)','')\n",
    "movies['GenreCorrected']=movies['GenreCorrected'].str.replace('musical b','musical')\n",
    "movies['GenreCorrected']=movies['GenreCorrected'].str.replace('animationchildren','animation|children')\n",
    "movies['GenreCorrected']=movies['GenreCorrected'].str.replace(' period','period')\n",
    "movies['GenreCorrected']=movies['GenreCorrected'].str.replace('drama loosely','drama')\n",
    "movies['GenreCorrected']=movies['GenreCorrected'].str.replace(' \\(aquatics|swimming\\)','')\n",
    "movies['GenreCorrected']=movies['GenreCorrected'].str.replace(' \\(aquatics|swimming\\)','')\n",
    "movies['GenreCorrected']=movies['GenreCorrected'].str.replace(\"yogesh dattatraya gosavi's directorial debut \\[9\\]\",'')\n",
    "movies['GenreCorrected']=movies['GenreCorrected'].str.replace(\"war-time\",\"war\")\n",
    "movies['GenreCorrected']=movies['GenreCorrected'].str.replace(\"wartime\",\"war\")\n",
    "movies['GenreCorrected']=movies['GenreCorrected'].str.replace(\"ww1\",\"war\")\n",
    "movies['GenreCorrected']=movies['GenreCorrected'].str.replace('unknown','')\n",
    "movies['GenreCorrected']=movies['GenreCorrected'].str.replace(\"wwii\",\"war\")\n",
    "movies['GenreCorrected']=movies['GenreCorrected'].str.replace('psychological','psycho')\n",
    "movies['GenreCorrected']=movies['GenreCorrected'].str.replace('rom-coms','romance')\n",
    "movies['GenreCorrected']=movies['GenreCorrected'].str.replace('true crime','crime')\n",
    "movies['GenreCorrected']=movies['GenreCorrected'].str.replace('\\|007','')\n",
    "movies['GenreCorrected']=movies['GenreCorrected'].str.replace('slice of life','slice_of_life')\n",
    "movies['GenreCorrected']=movies['GenreCorrected'].str.replace('computer animation','animation')\n",
    "movies['GenreCorrected']=movies['GenreCorrected'].str.replace('gun fu','martial_arts')\n",
    "movies['GenreCorrected']=movies['GenreCorrected'].str.replace('j-horror','horror')\n",
    "movies['GenreCorrected']=movies['GenreCorrected'].str.replace(' \\(shogi|chess\\)','')\n",
    "movies['GenreCorrected']=movies['GenreCorrected'].str.replace('afghan war drama','war drama')\n",
    "movies['GenreCorrected']=movies['GenreCorrected'].str.replace('\\|6 separate stories','')\n",
    "movies['GenreCorrected']=movies['GenreCorrected'].str.replace(' \\(30min\\)','')\n",
    "movies['GenreCorrected']=movies['GenreCorrected'].str.replace(' (road bicycle racing)','')\n",
    "movies['GenreCorrected']=movies['GenreCorrected'].str.replace(' v-cinema','')\n",
    "movies['GenreCorrected']=movies['GenreCorrected'].str.replace('tv miniseries','tv_miniseries')\n",
    "movies['GenreCorrected']=movies['GenreCorrected'].str.replace('\\|docudrama','\\|documentary|drama')\n",
    "movies['GenreCorrected']=movies['GenreCorrected'].str.replace(' in animation','|animation')\n",
    "movies['GenreCorrected']=movies['GenreCorrected'].str.replace('((adaptation).+)','')\n",
    "movies['GenreCorrected']=movies['GenreCorrected'].str.replace('((adaptated).+)','')\n",
    "movies['GenreCorrected']=movies['GenreCorrected'].str.replace('((adapted).+)','')\n",
    "movies['GenreCorrected']=movies['GenreCorrected'].str.replace('(( on ).+)','')\n",
    "movies['GenreCorrected']=movies['GenreCorrected'].str.replace('american football','sports')\n",
    "movies['GenreCorrected']=movies['GenreCorrected'].str.replace('dev\\|nusrat jahan','sports')\n",
    "movies['GenreCorrected']=movies['GenreCorrected'].str.replace('television miniseries','tv_miniseries')\n",
    "movies['GenreCorrected']=movies['GenreCorrected'].str.replace(' \\(artistic\\)','')\n",
    "movies['GenreCorrected']=movies['GenreCorrected'].str.replace(' \\|direct-to-dvd','')\n",
    "movies['GenreCorrected']=movies['GenreCorrected'].str.replace('history dram','history drama')\n",
    "movies['GenreCorrected']=movies['GenreCorrected'].str.replace('martial art','martial_arts')\n",
    "movies['GenreCorrected']=movies['GenreCorrected'].str.replace('psycho thriller,','psycho thriller')\n",
    "movies['GenreCorrected']=movies['GenreCorrected'].str.replace('\\|1 girl\\|3 suitors','')\n",
    "movies['GenreCorrected']=movies['GenreCorrected'].str.replace(' \\(road bicycle racing\\)','')\n",
    "filterE = movies['GenreCorrected']==\"ero\"\n",
    "movies.loc[filterE,'GenreCorrected']=\"adult\"\n",
    "filterE = movies['GenreCorrected']==\"music\"\n",
    "movies.loc[filterE,'GenreCorrected']=\"musical\"\n",
    "filterE = movies['GenreCorrected']==\"-\"\n",
    "movies.loc[filterE,'GenreCorrected']=''\n",
    "filterE = movies['GenreCorrected']==\"comedy–drama\"\n",
    "movies.loc[filterE,'GenreCorrected'] = \"comedy|drama\"\n",
    "filterE = movies['GenreCorrected']==\"comedy–horror\"\n",
    "movies.loc[filterE,'GenreCorrected'] = \"comedy|horror\"\n",
    "movies['GenreCorrected']=movies['GenreCorrected'].str.replace(' ','|')\n",
    "movies['GenreCorrected']=movies['GenreCorrected'].str.replace(',','|')\n",
    "movies['GenreCorrected']=movies['GenreCorrected'].str.replace('-','')\n",
    "movies['GenreCorrected']=movies['GenreCorrected'].str.replace('actionadventure','action|adventure')\n",
    "movies['GenreCorrected']=movies['GenreCorrected'].str.replace('actioncomedy','action|comedy')\n",
    "movies['GenreCorrected']=movies['GenreCorrected'].str.replace('actiondrama','action|drama')\n",
    "movies['GenreCorrected']=movies['GenreCorrected'].str.replace('actionlove','action|love')\n",
    "movies['GenreCorrected']=movies['GenreCorrected'].str.replace('actionmasala','action|masala')\n",
    "movies['GenreCorrected']=movies['GenreCorrected'].str.replace('actionchildren','action|children')\n",
    "\n",
    "movies['GenreCorrected']=movies['GenreCorrected'].str.replace('fantasychildren\\|','fantasy|children')\n",
    "movies['GenreCorrected']=movies['GenreCorrected'].str.replace('fantasycomedy','fantasy|comedy')\n",
    "movies['GenreCorrected']=movies['GenreCorrected'].str.replace('fantasyperiod','fantasy|period')\n",
    "movies['GenreCorrected']=movies['GenreCorrected'].str.replace('cbctv_miniseries','tv_miniseries')\n",
    "movies['GenreCorrected']=movies['GenreCorrected'].str.replace('dramacomedy','drama|comedy')\n",
    "movies['GenreCorrected']=movies['GenreCorrected'].str.replace('dramacomedysocial','drama|comedy|social')\n",
    "movies['GenreCorrected']=movies['GenreCorrected'].str.replace('dramathriller','drama|thriller')\n",
    "movies['GenreCorrected']=movies['GenreCorrected'].str.replace('comedydrama','comedy|drama')\n",
    "movies['GenreCorrected']=movies['GenreCorrected'].str.replace('dramathriller','drama|thriller')\n",
    "movies['GenreCorrected']=movies['GenreCorrected'].str.replace('comedyhorror','comedy|horror')\n",
    "movies['GenreCorrected']=movies['GenreCorrected'].str.replace('sciencefiction','science_fiction')\n",
    "movies['GenreCorrected']=movies['GenreCorrected'].str.replace('adventurecomedy','adventure|comedy')\n",
    "movies['GenreCorrected']=movies['GenreCorrected'].str.replace('animationdrama','animation|drama')\n",
    "movies['GenreCorrected']=movies['GenreCorrected'].str.replace('\\|\\|','|')\n",
    "movies['GenreCorrected']=movies['GenreCorrected'].str.replace('muslim','religious')\n",
    "movies['GenreCorrected']=movies['GenreCorrected'].str.replace('thriler','thriller')\n",
    "movies['GenreCorrected']=movies['GenreCorrected'].str.replace('crimethriller','crime|thriller')\n",
    "movies['GenreCorrected']=movies['GenreCorrected'].str.replace('fantay','fantasy')\n",
    "movies['GenreCorrected']=movies['GenreCorrected'].str.replace('actionthriller','action|thriller')\n",
    "movies['GenreCorrected']=movies['GenreCorrected'].str.replace('comedysocial','comedy|social')\n",
    "movies['GenreCorrected']=movies['GenreCorrected'].str.replace('martialarts','martial_arts')\n",
    "movies['GenreCorrected']=movies['GenreCorrected'].str.replace('\\|\\(children\\|poker\\|karuta\\)','')\n",
    "movies['GenreCorrected']=movies['GenreCorrected'].str.replace('epichistory','epic|history')\n",
    "\n",
    "movies['GenreCorrected']=movies['GenreCorrected'].str.replace('erotica','adult')\n",
    "movies['GenreCorrected']=movies['GenreCorrected'].str.replace('erotic','adult')\n",
    "\n",
    "movies['GenreCorrected']=movies['GenreCorrected'].str.replace('((\\|produced\\|).+)','')\n",
    "movies['GenreCorrected']=movies['GenreCorrected'].str.replace('chanbara','chambara')\n",
    "movies['GenreCorrected']=movies['GenreCorrected'].str.replace('comedythriller','comedy|thriller')\n",
    "movies['GenreCorrected']=movies['GenreCorrected'].str.replace('biblical','religious')\n",
    "movies['GenreCorrected']=movies['GenreCorrected'].str.replace('biblical','religious')\n",
    "movies['GenreCorrected']=movies['GenreCorrected'].str.replace('colour\\|yellow\\|productions\\|eros\\|international','')\n",
    "movies['GenreCorrected']=movies['GenreCorrected'].str.replace('\\|directtodvd','')\n",
    "movies['GenreCorrected']=movies['GenreCorrected'].str.replace('liveaction','live|action')\n",
    "movies['GenreCorrected']=movies['GenreCorrected'].str.replace('melodrama','drama')\n",
    "movies['GenreCorrected']=movies['GenreCorrected'].str.replace('superheroes','superheroe')\n",
    "movies['GenreCorrected']=movies['GenreCorrected'].str.replace('gangsterthriller','gangster|thriller')\n",
    "\n",
    "movies['GenreCorrected']=movies['GenreCorrected'].str.replace('heistcomedy','comedy')\n",
    "movies['GenreCorrected']=movies['GenreCorrected'].str.replace('heist','action')\n",
    "movies['GenreCorrected']=movies['GenreCorrected'].str.replace('historic','history')\n",
    "movies['GenreCorrected']=movies['GenreCorrected'].str.replace('historydisaster','history|disaster')\n",
    "movies['GenreCorrected']=movies['GenreCorrected'].str.replace('warcomedy','war|comedy')\n",
    "movies['GenreCorrected']=movies['GenreCorrected'].str.replace('westerncomedy','western|comedy')\n",
    "movies['GenreCorrected']=movies['GenreCorrected'].str.replace('ancientcostume','costume')\n",
    "movies['GenreCorrected']=movies['GenreCorrected'].str.replace('computeranimation','animation')\n",
    "movies['GenreCorrected']=movies['GenreCorrected'].str.replace('dramatic','drama')\n",
    "movies['GenreCorrected']=movies['GenreCorrected'].str.replace('familya','family')\n",
    "movies['GenreCorrected']=movies['GenreCorrected'].str.replace('familya','family')\n",
    "movies['GenreCorrected']=movies['GenreCorrected'].str.replace('dramedy','drama|comedy')\n",
    "movies['GenreCorrected']=movies['GenreCorrected'].str.replace('dramaa','drama')\n",
    "movies['GenreCorrected']=movies['GenreCorrected'].str.replace('famil\\|','family')\n",
    "\n",
    "movies['GenreCorrected']=movies['GenreCorrected'].str.replace('superheroe','superhero')\n",
    "movies['GenreCorrected']=movies['GenreCorrected'].str.replace('biogtaphy','biography')\n",
    "movies['GenreCorrected']=movies['GenreCorrected'].str.replace('devotionalbiography','devotional|biography')\n",
    "movies['GenreCorrected']=movies['GenreCorrected'].str.replace('docufiction','documentary|fiction')\n",
    "\n",
    "movies['GenreCorrected']=movies['GenreCorrected'].str.replace('familydrama','family|drama')\n",
    "\n",
    "movies['GenreCorrected']=movies['GenreCorrected'].str.replace('espionage','spy')\n",
    "movies['GenreCorrected']=movies['GenreCorrected'].str.replace('supeheroes','superhero')\n",
    "movies['GenreCorrected']=movies['GenreCorrected'].str.replace('romancefiction','romance|fiction')\n",
    "movies['GenreCorrected']=movies['GenreCorrected'].str.replace('horrorthriller','horror|thriller')\n",
    "\n",
    "movies['GenreCorrected']=movies['GenreCorrected'].str.replace('suspensethriller','suspense|thriller')\n",
    "movies['GenreCorrected']=movies['GenreCorrected'].str.replace('musicaliography','musical|biography')\n",
    "movies['GenreCorrected']=movies['GenreCorrected'].str.replace('triller','thriller')\n",
    "\n",
    "movies['GenreCorrected']=movies['GenreCorrected'].str.replace('\\|\\(fiction\\)','|fiction')\n",
    "\n",
    "movies['GenreCorrected']=movies['GenreCorrected'].str.replace('romanceaction','romance|action')\n",
    "movies['GenreCorrected']=movies['GenreCorrected'].str.replace('romancecomedy','romance|comedy')\n",
    "movies['GenreCorrected']=movies['GenreCorrected'].str.replace('romancehorror','romance|horror')\n",
    "\n",
    "movies['GenreCorrected']=movies['GenreCorrected'].str.replace('romcom','romance|comedy')\n",
    "movies['GenreCorrected']=movies['GenreCorrected'].str.replace('rom\\|com','romance|comedy')\n",
    "movies['GenreCorrected']=movies['GenreCorrected'].str.replace('satirical','satire')\n",
    "\n",
    "movies['GenreCorrected']=movies['GenreCorrected'].str.replace('science_fictionchildren','science_fiction|children')\n",
    "movies['GenreCorrected']=movies['GenreCorrected'].str.replace('homosexual','adult')\n",
    "movies['GenreCorrected']=movies['GenreCorrected'].str.replace('sexual','adult')\n",
    "\n",
    "movies['GenreCorrected']=movies['GenreCorrected'].str.replace('mockumentary','documentary')\n",
    "movies['GenreCorrected']=movies['GenreCorrected'].str.replace('periodic','period')\n",
    "movies['GenreCorrected']=movies['GenreCorrected'].str.replace('romanctic','romantic')\n",
    "movies['GenreCorrected']=movies['GenreCorrected'].str.replace('politics','political')\n",
    "movies['GenreCorrected']=movies['GenreCorrected'].str.replace('samurai','martial_arts')\n",
    "movies['GenreCorrected']=movies['GenreCorrected'].str.replace('tv_miniseries','series')\n",
    "movies['GenreCorrected']=movies['GenreCorrected'].str.replace('serial','series')\n",
    "\n",
    "filterE = movies['GenreCorrected']==\"musical–comedy\"\n",
    "movies.loc[filterE,'GenreCorrected'] = \"musical|comedy\"\n",
    "\n",
    "filterE = movies['GenreCorrected']==\"roman|porno\"\n",
    "movies.loc[filterE,'GenreCorrected'] = \"adult\"\n",
    "\n",
    "\n",
    "filterE = movies['GenreCorrected']==\"action—masala\"\n",
    "movies.loc[filterE,'GenreCorrected'] = \"action|masala\"\n",
    "\n",
    "\n",
    "filterE = movies['GenreCorrected']==\"horror–thriller\"\n",
    "movies.loc[filterE,'GenreCorrected'] = \"horror|thriller\"\n",
    "\n",
    "movies['GenreCorrected']=movies['GenreCorrected'].str.replace('family','children')\n",
    "movies['GenreCorrected']=movies['GenreCorrected'].str.replace('martial_arts','action')\n",
    "movies['GenreCorrected']=movies['GenreCorrected'].str.replace('horror','thriller')\n",
    "movies['GenreCorrected']=movies['GenreCorrected'].str.replace('war','action')\n",
    "movies['GenreCorrected']=movies['GenreCorrected'].str.replace('adventure','action')\n",
    "movies['GenreCorrected']=movies['GenreCorrected'].str.replace('science_fiction','action')\n",
    "movies['GenreCorrected']=movies['GenreCorrected'].str.replace('western','action')\n",
    "movies['GenreCorrected']=movies['GenreCorrected'].str.replace('western','action')\n",
    "movies['GenreCorrected']=movies['GenreCorrected'].str.replace('noir','black')\n",
    "movies['GenreCorrected']=movies['GenreCorrected'].str.replace('spy','action')\n",
    "movies['GenreCorrected']=movies['GenreCorrected'].str.replace('superhero','action')\n",
    "movies['GenreCorrected']=movies['GenreCorrected'].str.replace('social','')\n",
    "movies['GenreCorrected']=movies['GenreCorrected'].str.replace('suspense','action')\n",
    "\n",
    "\n",
    "filterE = movies['GenreCorrected']==\"drama|romance|adult|children\"\n",
    "movies.loc[filterE,'GenreCorrected'] = \"drama|romance|adult\"\n",
    "\n",
    "movies['GenreCorrected']=movies['GenreCorrected'].str.replace('\\|–\\|','|')\n",
    "movies['GenreCorrected']=movies['GenreCorrected'].str.strip(to_strip='\\|')\n",
    "movies['GenreCorrected']=movies['GenreCorrected'].str.replace('actionner','action')\n",
    "movies['GenreCorrected']=movies['GenreCorrected'].str.strip()"
   ]
  },
  {
   "cell_type": "code",
   "execution_count": 10,
   "id": "e0be3108-4fed-4253-9486-4f0a98779e2a",
   "metadata": {},
   "outputs": [],
   "source": [
    "moviesGenre = movies[['GenreCorrected','Count']].groupby(['GenreCorrected']).count()\n",
    "moviesGenre.to_csv('GenreCorrected.csv',sep=',')"
   ]
  },
  {
   "cell_type": "code",
   "execution_count": 11,
   "id": "c06f0ac1-010d-4db5-b47b-edb50274816e",
   "metadata": {},
   "outputs": [
    {
     "data": {
      "text/plain": [
       "1199"
      ]
     },
     "execution_count": 11,
     "metadata": {},
     "output_type": "execute_result"
    }
   ],
   "source": [
    "movies[['GenreCorrected','Count']].groupby(['GenreCorrected'], as_index=False).count().shape[0]"
   ]
  },
  {
   "cell_type": "markdown",
   "id": "9a7f14d6-5236-46d4-8cd4-ac27f32344a3",
   "metadata": {},
   "source": [
    "After harmonization, the number of movies genres decreased 1198 from 2265\n",
    "\n",
    "#### Overview of the genre after cleansing"
   ]
  },
  {
   "cell_type": "code",
   "execution_count": 12,
   "id": "618ec8e6-d145-4477-ba83-6853dac2f8b8",
   "metadata": {},
   "outputs": [
    {
     "data": {
      "text/html": [
       "<div>\n",
       "<style scoped>\n",
       "    .dataframe tbody tr th:only-of-type {\n",
       "        vertical-align: middle;\n",
       "    }\n",
       "\n",
       "    .dataframe tbody tr th {\n",
       "        vertical-align: top;\n",
       "    }\n",
       "\n",
       "    .dataframe thead th {\n",
       "        text-align: right;\n",
       "    }\n",
       "</style>\n",
       "<table border=\"1\" class=\"dataframe\">\n",
       "  <thead>\n",
       "    <tr style=\"text-align: right;\">\n",
       "      <th></th>\n",
       "      <th>GenreCorrected</th>\n",
       "      <th>Count</th>\n",
       "    </tr>\n",
       "  </thead>\n",
       "  <tbody>\n",
       "    <tr>\n",
       "      <th>0</th>\n",
       "      <td></td>\n",
       "      <td>6206</td>\n",
       "    </tr>\n",
       "    <tr>\n",
       "      <th>516</th>\n",
       "      <td>drama</td>\n",
       "      <td>6107</td>\n",
       "    </tr>\n",
       "    <tr>\n",
       "      <th>359</th>\n",
       "      <td>comedy</td>\n",
       "      <td>4411</td>\n",
       "    </tr>\n",
       "    <tr>\n",
       "      <th>2</th>\n",
       "      <td>action</td>\n",
       "      <td>3790</td>\n",
       "    </tr>\n",
       "    <tr>\n",
       "      <th>1111</th>\n",
       "      <td>thriller</td>\n",
       "      <td>2163</td>\n",
       "    </tr>\n",
       "    <tr>\n",
       "      <th>964</th>\n",
       "      <td>romance</td>\n",
       "      <td>954</td>\n",
       "    </tr>\n",
       "    <tr>\n",
       "      <th>203</th>\n",
       "      <td>animation</td>\n",
       "      <td>601</td>\n",
       "    </tr>\n",
       "    <tr>\n",
       "      <th>973</th>\n",
       "      <td>romance|comedy</td>\n",
       "      <td>577</td>\n",
       "    </tr>\n",
       "    <tr>\n",
       "      <th>447</th>\n",
       "      <td>crime</td>\n",
       "      <td>573</td>\n",
       "    </tr>\n",
       "    <tr>\n",
       "      <th>387</th>\n",
       "      <td>comedy|drama</td>\n",
       "      <td>560</td>\n",
       "    </tr>\n",
       "  </tbody>\n",
       "</table>\n",
       "</div>"
      ],
      "text/plain": [
       "      GenreCorrected  Count\n",
       "0                      6206\n",
       "516            drama   6107\n",
       "359           comedy   4411\n",
       "2             action   3790\n",
       "1111        thriller   2163\n",
       "964          romance    954\n",
       "203        animation    601\n",
       "973   romance|comedy    577\n",
       "447            crime    573\n",
       "387     comedy|drama    560"
      ]
     },
     "execution_count": 12,
     "metadata": {},
     "output_type": "execute_result"
    }
   ],
   "source": [
    "movies[['GenreCorrected','Count']].groupby(['GenreCorrected'],as_index=False).count().sort_values(['Count'], ascending=False).head(10)"
   ]
  },
  {
   "cell_type": "code",
   "execution_count": 13,
   "id": "1e86becc-6a0c-4ed9-9930-fd6a395e408e",
   "metadata": {},
   "outputs": [],
   "source": [
    "movies['GenreSplit']=movies['GenreCorrected'].str.split('|')\n",
    "movies['GenreSplit']= movies['GenreSplit'].apply(np.sort).apply(np.unique)"
   ]
  },
  {
   "cell_type": "code",
   "execution_count": 14,
   "id": "c648f100-b860-4f4e-aa5e-f86cf4d980b7",
   "metadata": {},
   "outputs": [
    {
     "data": {
      "text/plain": [
       "array(['action', 'crime', 'short'], dtype='<U6')"
      ]
     },
     "execution_count": 14,
     "metadata": {},
     "output_type": "execute_result"
    }
   ],
   "source": [
    "movies['GenreSplit'][11]"
   ]
  },
  {
   "cell_type": "markdown",
   "id": "b260d4ae-7363-444e-bc6f-3473f5855ea1",
   "metadata": {},
   "source": [
    "#### Movies for each genre "
   ]
  },
  {
   "cell_type": "code",
   "execution_count": 15,
   "id": "9f00c7cc-f380-4436-828c-0780e6bc32a4",
   "metadata": {},
   "outputs": [
    {
     "data": {
      "text/plain": [
       "array(['', '', '', ..., 'comedy', 'comedy', 'romance'], dtype='<U32')"
      ]
     },
     "execution_count": 15,
     "metadata": {},
     "output_type": "execute_result"
    }
   ],
   "source": [
    "genres_array = np.array([])\n",
    "\n",
    "for i in range(0,movies.shape[0]-1):\n",
    "    genres_array = np.concatenate((genres_array, movies['GenreSplit'][i] ))\n",
    "    \n",
    "genres_array"
   ]
  },
  {
   "cell_type": "code",
   "execution_count": 16,
   "id": "c2fe8f9d-859d-4000-af58-3d0b1c060679",
   "metadata": {},
   "outputs": [],
   "source": [
    "genres = pd.DataFrame({'Genre':genres_array})"
   ]
  },
  {
   "cell_type": "code",
   "execution_count": 17,
   "id": "1b4de080-b583-479e-900f-3c00a9228198",
   "metadata": {},
   "outputs": [],
   "source": [
    "genres = pd.DataFrame({'Genre':genres_array})"
   ]
  },
  {
   "cell_type": "code",
   "execution_count": 18,
   "id": "9ee4d515-1b93-42ab-93d7-826b85dff476",
   "metadata": {},
   "outputs": [],
   "source": [
    "# Histogram for genre\n",
    "genres['Count']=1\n",
    "df = genres[['Genre','Count']].groupby(['Genre'], as_index=False).sum().sort_values(['Count'], ascending=False).head(10)"
   ]
  },
  {
   "cell_type": "markdown",
   "id": "0b650d8e-b179-4aab-8208-571ba984cdb7",
   "metadata": {},
   "source": [
    "#### Identifying the genre to be selected"
   ]
  },
  {
   "cell_type": "code",
   "execution_count": 19,
   "id": "21748a3d-af37-42b3-84f5-dad77795441a",
   "metadata": {},
   "outputs": [],
   "source": [
    "genres=genres[['Genre','Count']].groupby(['Genre'], as_index=False).sum().sort_values(['Count'], ascending=False)"
   ]
  },
  {
   "cell_type": "code",
   "execution_count": 20,
   "id": "f1fb2a5b-442f-4c65-a429-3abd4d651762",
   "metadata": {},
   "outputs": [
    {
     "data": {
      "text/html": [
       "<div>\n",
       "<style scoped>\n",
       "    .dataframe tbody tr th:only-of-type {\n",
       "        vertical-align: middle;\n",
       "    }\n",
       "\n",
       "    .dataframe tbody tr th {\n",
       "        vertical-align: top;\n",
       "    }\n",
       "\n",
       "    .dataframe thead th {\n",
       "        text-align: right;\n",
       "    }\n",
       "</style>\n",
       "<table border=\"1\" class=\"dataframe\">\n",
       "  <thead>\n",
       "    <tr style=\"text-align: right;\">\n",
       "      <th></th>\n",
       "      <th>Genre</th>\n",
       "      <th>Count</th>\n",
       "    </tr>\n",
       "  </thead>\n",
       "  <tbody>\n",
       "    <tr>\n",
       "      <th>116</th>\n",
       "      <td>drama</td>\n",
       "      <td>9487</td>\n",
       "    </tr>\n",
       "    <tr>\n",
       "      <th>85</th>\n",
       "      <td>comedy</td>\n",
       "      <td>7320</td>\n",
       "    </tr>\n",
       "    <tr>\n",
       "      <th>4</th>\n",
       "      <td>action</td>\n",
       "      <td>5952</td>\n",
       "    </tr>\n",
       "    <tr>\n",
       "      <th>426</th>\n",
       "      <td>thriller</td>\n",
       "      <td>3291</td>\n",
       "    </tr>\n",
       "    <tr>\n",
       "      <th>337</th>\n",
       "      <td>romance</td>\n",
       "      <td>2639</td>\n",
       "    </tr>\n",
       "    <tr>\n",
       "      <th>94</th>\n",
       "      <td>crime</td>\n",
       "      <td>1607</td>\n",
       "    </tr>\n",
       "    <tr>\n",
       "      <th>244</th>\n",
       "      <td>musical</td>\n",
       "      <td>951</td>\n",
       "    </tr>\n",
       "    <tr>\n",
       "      <th>16</th>\n",
       "      <td>animation</td>\n",
       "      <td>914</td>\n",
       "    </tr>\n",
       "    <tr>\n",
       "      <th>73</th>\n",
       "      <td>children</td>\n",
       "      <td>684</td>\n",
       "    </tr>\n",
       "    <tr>\n",
       "      <th>131</th>\n",
       "      <td>fantasy</td>\n",
       "      <td>542</td>\n",
       "    </tr>\n",
       "    <tr>\n",
       "      <th>245</th>\n",
       "      <td>mystery</td>\n",
       "      <td>481</td>\n",
       "    </tr>\n",
       "    <tr>\n",
       "      <th>46</th>\n",
       "      <td>biography</td>\n",
       "      <td>463</td>\n",
       "    </tr>\n",
       "    <tr>\n",
       "      <th>47</th>\n",
       "      <td>black</td>\n",
       "      <td>412</td>\n",
       "    </tr>\n",
       "    <tr>\n",
       "      <th>149</th>\n",
       "      <td>history</td>\n",
       "      <td>256</td>\n",
       "    </tr>\n",
       "    <tr>\n",
       "      <th>368</th>\n",
       "      <td>short</td>\n",
       "      <td>241</td>\n",
       "    </tr>\n",
       "    <tr>\n",
       "      <th>114</th>\n",
       "      <td>documentary</td>\n",
       "      <td>131</td>\n",
       "    </tr>\n",
       "    <tr>\n",
       "      <th>391</th>\n",
       "      <td>sports</td>\n",
       "      <td>121</td>\n",
       "    </tr>\n",
       "    <tr>\n",
       "      <th>357</th>\n",
       "      <td>series</td>\n",
       "      <td>86</td>\n",
       "    </tr>\n",
       "    <tr>\n",
       "      <th>6</th>\n",
       "      <td>adult</td>\n",
       "      <td>71</td>\n",
       "    </tr>\n",
       "    <tr>\n",
       "      <th>288</th>\n",
       "      <td>political</td>\n",
       "      <td>60</td>\n",
       "    </tr>\n",
       "    <tr>\n",
       "      <th>90</th>\n",
       "      <td>costume</td>\n",
       "      <td>49</td>\n",
       "    </tr>\n",
       "    <tr>\n",
       "      <th>429</th>\n",
       "      <td>tokusatsu</td>\n",
       "      <td>43</td>\n",
       "    </tr>\n",
       "    <tr>\n",
       "      <th>411</th>\n",
       "      <td>supernatural</td>\n",
       "      <td>41</td>\n",
       "    </tr>\n",
       "    <tr>\n",
       "      <th>223</th>\n",
       "      <td>masala</td>\n",
       "      <td>41</td>\n",
       "    </tr>\n",
       "    <tr>\n",
       "      <th>307</th>\n",
       "      <td>psycho</td>\n",
       "      <td>39</td>\n",
       "    </tr>\n",
       "  </tbody>\n",
       "</table>\n",
       "</div>"
      ],
      "text/plain": [
       "            Genre  Count\n",
       "116         drama   9487\n",
       "85         comedy   7320\n",
       "4          action   5952\n",
       "426      thriller   3291\n",
       "337       romance   2639\n",
       "94          crime   1607\n",
       "244       musical    951\n",
       "16      animation    914\n",
       "73       children    684\n",
       "131       fantasy    542\n",
       "245       mystery    481\n",
       "46      biography    463\n",
       "47          black    412\n",
       "149       history    256\n",
       "368         short    241\n",
       "114   documentary    131\n",
       "391        sports    121\n",
       "357        series     86\n",
       "6           adult     71\n",
       "288     political     60\n",
       "90        costume     49\n",
       "429     tokusatsu     43\n",
       "411  supernatural     41\n",
       "223        masala     41\n",
       "307        psycho     39"
      ]
     },
     "execution_count": 20,
     "metadata": {},
     "output_type": "execute_result"
    }
   ],
   "source": [
    "genres = genres[genres['Genre']!='']\n",
    "genres.head(25)"
   ]
  },
  {
   "cell_type": "code",
   "execution_count": 21,
   "id": "53339407-3b8b-4486-b128-abb340208e1c",
   "metadata": {},
   "outputs": [],
   "source": [
    "TotalCountGenres=sum(genres['Count'])\n"
   ]
  },
  {
   "cell_type": "code",
   "execution_count": 22,
   "id": "75f3d6cb-1cd6-4843-bb97-f4e8f59334ad",
   "metadata": {},
   "outputs": [
    {
     "data": {
      "text/plain": [
       "37321"
      ]
     },
     "execution_count": 22,
     "metadata": {},
     "output_type": "execute_result"
    }
   ],
   "source": [
    "TotalCountGenres"
   ]
  },
  {
   "cell_type": "code",
   "execution_count": 23,
   "id": "9b11c50f-05f4-4b89-89e2-363abd618603",
   "metadata": {},
   "outputs": [
    {
     "data": {
      "text/html": [
       "<div>\n",
       "<style scoped>\n",
       "    .dataframe tbody tr th:only-of-type {\n",
       "        vertical-align: middle;\n",
       "    }\n",
       "\n",
       "    .dataframe tbody tr th {\n",
       "        vertical-align: top;\n",
       "    }\n",
       "\n",
       "    .dataframe thead th {\n",
       "        text-align: right;\n",
       "    }\n",
       "</style>\n",
       "<table border=\"1\" class=\"dataframe\">\n",
       "  <thead>\n",
       "    <tr style=\"text-align: right;\">\n",
       "      <th></th>\n",
       "      <th>Genre</th>\n",
       "      <th>Count</th>\n",
       "      <th>Frequency</th>\n",
       "      <th>CumulativeFrequency</th>\n",
       "    </tr>\n",
       "  </thead>\n",
       "  <tbody>\n",
       "    <tr>\n",
       "      <th>116</th>\n",
       "      <td>drama</td>\n",
       "      <td>9487</td>\n",
       "      <td>0.254200</td>\n",
       "      <td>0.254200</td>\n",
       "    </tr>\n",
       "    <tr>\n",
       "      <th>85</th>\n",
       "      <td>comedy</td>\n",
       "      <td>7320</td>\n",
       "      <td>0.196136</td>\n",
       "      <td>0.450336</td>\n",
       "    </tr>\n",
       "    <tr>\n",
       "      <th>4</th>\n",
       "      <td>action</td>\n",
       "      <td>5952</td>\n",
       "      <td>0.159481</td>\n",
       "      <td>0.609818</td>\n",
       "    </tr>\n",
       "    <tr>\n",
       "      <th>426</th>\n",
       "      <td>thriller</td>\n",
       "      <td>3291</td>\n",
       "      <td>0.088181</td>\n",
       "      <td>0.697998</td>\n",
       "    </tr>\n",
       "    <tr>\n",
       "      <th>337</th>\n",
       "      <td>romance</td>\n",
       "      <td>2639</td>\n",
       "      <td>0.070711</td>\n",
       "      <td>0.768709</td>\n",
       "    </tr>\n",
       "    <tr>\n",
       "      <th>94</th>\n",
       "      <td>crime</td>\n",
       "      <td>1607</td>\n",
       "      <td>0.043059</td>\n",
       "      <td>0.811768</td>\n",
       "    </tr>\n",
       "    <tr>\n",
       "      <th>244</th>\n",
       "      <td>musical</td>\n",
       "      <td>951</td>\n",
       "      <td>0.025482</td>\n",
       "      <td>0.837250</td>\n",
       "    </tr>\n",
       "    <tr>\n",
       "      <th>16</th>\n",
       "      <td>animation</td>\n",
       "      <td>914</td>\n",
       "      <td>0.024490</td>\n",
       "      <td>0.861740</td>\n",
       "    </tr>\n",
       "    <tr>\n",
       "      <th>73</th>\n",
       "      <td>children</td>\n",
       "      <td>684</td>\n",
       "      <td>0.018327</td>\n",
       "      <td>0.880068</td>\n",
       "    </tr>\n",
       "    <tr>\n",
       "      <th>131</th>\n",
       "      <td>fantasy</td>\n",
       "      <td>542</td>\n",
       "      <td>0.014523</td>\n",
       "      <td>0.894590</td>\n",
       "    </tr>\n",
       "    <tr>\n",
       "      <th>245</th>\n",
       "      <td>mystery</td>\n",
       "      <td>481</td>\n",
       "      <td>0.012888</td>\n",
       "      <td>0.907478</td>\n",
       "    </tr>\n",
       "    <tr>\n",
       "      <th>46</th>\n",
       "      <td>biography</td>\n",
       "      <td>463</td>\n",
       "      <td>0.012406</td>\n",
       "      <td>0.919884</td>\n",
       "    </tr>\n",
       "    <tr>\n",
       "      <th>47</th>\n",
       "      <td>black</td>\n",
       "      <td>412</td>\n",
       "      <td>0.011039</td>\n",
       "      <td>0.930924</td>\n",
       "    </tr>\n",
       "    <tr>\n",
       "      <th>149</th>\n",
       "      <td>history</td>\n",
       "      <td>256</td>\n",
       "      <td>0.006859</td>\n",
       "      <td>0.937783</td>\n",
       "    </tr>\n",
       "    <tr>\n",
       "      <th>368</th>\n",
       "      <td>short</td>\n",
       "      <td>241</td>\n",
       "      <td>0.006457</td>\n",
       "      <td>0.944241</td>\n",
       "    </tr>\n",
       "    <tr>\n",
       "      <th>114</th>\n",
       "      <td>documentary</td>\n",
       "      <td>131</td>\n",
       "      <td>0.003510</td>\n",
       "      <td>0.947751</td>\n",
       "    </tr>\n",
       "    <tr>\n",
       "      <th>391</th>\n",
       "      <td>sports</td>\n",
       "      <td>121</td>\n",
       "      <td>0.003242</td>\n",
       "      <td>0.950993</td>\n",
       "    </tr>\n",
       "    <tr>\n",
       "      <th>357</th>\n",
       "      <td>series</td>\n",
       "      <td>86</td>\n",
       "      <td>0.002304</td>\n",
       "      <td>0.953297</td>\n",
       "    </tr>\n",
       "    <tr>\n",
       "      <th>6</th>\n",
       "      <td>adult</td>\n",
       "      <td>71</td>\n",
       "      <td>0.001902</td>\n",
       "      <td>0.955199</td>\n",
       "    </tr>\n",
       "    <tr>\n",
       "      <th>288</th>\n",
       "      <td>political</td>\n",
       "      <td>60</td>\n",
       "      <td>0.001608</td>\n",
       "      <td>0.956807</td>\n",
       "    </tr>\n",
       "  </tbody>\n",
       "</table>\n",
       "</div>"
      ],
      "text/plain": [
       "           Genre  Count  Frequency  CumulativeFrequency\n",
       "116        drama   9487   0.254200             0.254200\n",
       "85        comedy   7320   0.196136             0.450336\n",
       "4         action   5952   0.159481             0.609818\n",
       "426     thriller   3291   0.088181             0.697998\n",
       "337      romance   2639   0.070711             0.768709\n",
       "94         crime   1607   0.043059             0.811768\n",
       "244      musical    951   0.025482             0.837250\n",
       "16     animation    914   0.024490             0.861740\n",
       "73      children    684   0.018327             0.880068\n",
       "131      fantasy    542   0.014523             0.894590\n",
       "245      mystery    481   0.012888             0.907478\n",
       "46     biography    463   0.012406             0.919884\n",
       "47         black    412   0.011039             0.930924\n",
       "149      history    256   0.006859             0.937783\n",
       "368        short    241   0.006457             0.944241\n",
       "114  documentary    131   0.003510             0.947751\n",
       "391       sports    121   0.003242             0.950993\n",
       "357       series     86   0.002304             0.953297\n",
       "6          adult     71   0.001902             0.955199\n",
       "288    political     60   0.001608             0.956807"
      ]
     },
     "execution_count": 23,
     "metadata": {},
     "output_type": "execute_result"
    }
   ],
   "source": [
    "genres['Frequency'] = genres['Count']/TotalCountGenres\n",
    "genres['CumulativeFrequency'] = genres['Frequency'].cumsum()\n",
    "genres.head(20)"
   ]
  },
  {
   "cell_type": "markdown",
   "id": "cf085e71-2355-47c2-a91d-e6328e121dae",
   "metadata": {},
   "source": [
    "#### Selecting the genres having a cumulative frequency 95.7% (~96%) and below"
   ]
  },
  {
   "cell_type": "code",
   "execution_count": 24,
   "id": "0f6854cd-2cfd-4495-a698-a1e624fc0d4a",
   "metadata": {},
   "outputs": [
    {
     "data": {
      "text/plain": [
       "array(['drama', 'comedy', 'action', 'thriller', 'romance', 'crime',\n",
       "       'musical', 'animation', 'children', 'fantasy', 'mystery',\n",
       "       'biography', 'black', 'history', 'short', 'documentary', 'sports',\n",
       "       'series', 'adult', 'political'], dtype=object)"
      ]
     },
     "execution_count": 24,
     "metadata": {},
     "output_type": "execute_result"
    }
   ],
   "source": [
    "np.array(genres[genres['CumulativeFrequency']<=.957]['Genre'])"
   ]
  },
  {
   "cell_type": "code",
   "execution_count": 25,
   "id": "8530bee1-9b7a-4027-ae22-d1a1ced6dbf1",
   "metadata": {},
   "outputs": [
    {
     "data": {
      "image/png": "[encoded data removed]",
      "text/plain": [
       "<Figure size 720x360 with 1 Axes>"
      ]
     },
     "metadata": {
      "needs_background": "light"
     },
     "output_type": "display_data"
    }
   ],
   "source": [
    "genres[genres['CumulativeFrequency']<=.957][['Genre','Count']].plot(x='Genre', y='Count', kind='bar', legend=False, grid=True, figsize=(10, 5))\n",
    "plt.title(\"Number of movies per genre\")\n",
    "plt.ylabel('No of Occurrences', fontsize=14)\n",
    "plt.xlabel('Movie genres', fontsize=14)\n",
    "plt.show()"
   ]
  },
  {
   "cell_type": "code",
   "execution_count": 26,
   "id": "109ff17c-a376-4239-ac09-6e90bd1f70ae",
   "metadata": {},
   "outputs": [
    {
     "data": {
      "text/plain": [
       "array(['adult', 'romance', 'drama'], dtype='<U7')"
      ]
     },
     "execution_count": 26,
     "metadata": {},
     "output_type": "execute_result"
    }
   ],
   "source": [
    "mainGenres=np.array(genres[genres['CumulativeFrequency']<=.957]['Genre'])\n",
    "arr1=np.array(['adult', 'romance', 'drama','and'])\n",
    "\n",
    "# Genres that are not in the \"MainGenres\" array will be deleted\n",
    "arr1[np.in1d(arr1,mainGenres)] "
   ]
  },
  {
   "cell_type": "code",
   "execution_count": 27,
   "id": "766d0ef2-be4c-4e94-8c2d-2d54f12f849b",
   "metadata": {},
   "outputs": [
    {
     "data": {
      "text/plain": [
       "10                   [short]\n",
       "11    [action, crime, short]\n",
       "Name: GenreSplit, dtype: object"
      ]
     },
     "execution_count": 27,
     "metadata": {},
     "output_type": "execute_result"
    }
   ],
   "source": [
    "movies['GenreSplit'][10:12].apply(lambda x: x[np.in1d(x,mainGenres)])"
   ]
  },
  {
   "cell_type": "code",
   "execution_count": 28,
   "id": "9d800c74-12a7-4320-9f35-fb699e30739a",
   "metadata": {},
   "outputs": [],
   "source": [
    "movies['GenreSplitMain'] = movies['GenreSplit'].apply(lambda x: x[np.in1d(x,mainGenres)])"
   ]
  },
  {
   "cell_type": "code",
   "execution_count": 29,
   "id": "4b382906-f347-46bc-859b-416e735cbca9",
   "metadata": {},
   "outputs": [
    {
     "data": {
      "text/html": [
       "<div>\n",
       "<style scoped>\n",
       "    .dataframe tbody tr th:only-of-type {\n",
       "        vertical-align: middle;\n",
       "    }\n",
       "\n",
       "    .dataframe tbody tr th {\n",
       "        vertical-align: top;\n",
       "    }\n",
       "\n",
       "    .dataframe thead th {\n",
       "        text-align: right;\n",
       "    }\n",
       "</style>\n",
       "<table border=\"1\" class=\"dataframe\">\n",
       "  <thead>\n",
       "    <tr style=\"text-align: right;\">\n",
       "      <th></th>\n",
       "      <th>GenreSplitMain</th>\n",
       "      <th>GenreSplit</th>\n",
       "      <th>Genre</th>\n",
       "    </tr>\n",
       "  </thead>\n",
       "  <tbody>\n",
       "    <tr>\n",
       "      <th>200</th>\n",
       "      <td>[drama]</td>\n",
       "      <td>[drama]</td>\n",
       "      <td>drama</td>\n",
       "    </tr>\n",
       "    <tr>\n",
       "      <th>201</th>\n",
       "      <td>[drama]</td>\n",
       "      <td>[drama]</td>\n",
       "      <td>drama</td>\n",
       "    </tr>\n",
       "    <tr>\n",
       "      <th>202</th>\n",
       "      <td>[comedy]</td>\n",
       "      <td>[comedy]</td>\n",
       "      <td>comedy</td>\n",
       "    </tr>\n",
       "    <tr>\n",
       "      <th>203</th>\n",
       "      <td>[drama]</td>\n",
       "      <td>[drama]</td>\n",
       "      <td>drama</td>\n",
       "    </tr>\n",
       "    <tr>\n",
       "      <th>204</th>\n",
       "      <td>[comedy]</td>\n",
       "      <td>[comedy]</td>\n",
       "      <td>comedy</td>\n",
       "    </tr>\n",
       "    <tr>\n",
       "      <th>205</th>\n",
       "      <td>[comedy, drama]</td>\n",
       "      <td>[comedy, drama]</td>\n",
       "      <td>comedy drama</td>\n",
       "    </tr>\n",
       "    <tr>\n",
       "      <th>206</th>\n",
       "      <td>[mystery]</td>\n",
       "      <td>[mystery]</td>\n",
       "      <td>mystery</td>\n",
       "    </tr>\n",
       "    <tr>\n",
       "      <th>207</th>\n",
       "      <td>[drama]</td>\n",
       "      <td>[drama]</td>\n",
       "      <td>drama</td>\n",
       "    </tr>\n",
       "    <tr>\n",
       "      <th>208</th>\n",
       "      <td>[drama]</td>\n",
       "      <td>[drama]</td>\n",
       "      <td>drama</td>\n",
       "    </tr>\n",
       "    <tr>\n",
       "      <th>209</th>\n",
       "      <td>[comedy, drama]</td>\n",
       "      <td>[comedy, drama]</td>\n",
       "      <td>comedy drama</td>\n",
       "    </tr>\n",
       "    <tr>\n",
       "      <th>210</th>\n",
       "      <td>[comedy]</td>\n",
       "      <td>[comedy]</td>\n",
       "      <td>comedy</td>\n",
       "    </tr>\n",
       "    <tr>\n",
       "      <th>211</th>\n",
       "      <td>[fantasy]</td>\n",
       "      <td>[fantasy]</td>\n",
       "      <td>fantasy</td>\n",
       "    </tr>\n",
       "    <tr>\n",
       "      <th>212</th>\n",
       "      <td>[drama]</td>\n",
       "      <td>[drama]</td>\n",
       "      <td>drama</td>\n",
       "    </tr>\n",
       "    <tr>\n",
       "      <th>213</th>\n",
       "      <td>[action, drama]</td>\n",
       "      <td>[action, drama]</td>\n",
       "      <td>war drama</td>\n",
       "    </tr>\n",
       "    <tr>\n",
       "      <th>214</th>\n",
       "      <td>[action, drama]</td>\n",
       "      <td>[action, drama]</td>\n",
       "      <td>war drama</td>\n",
       "    </tr>\n",
       "    <tr>\n",
       "      <th>215</th>\n",
       "      <td>[action]</td>\n",
       "      <td>[action]</td>\n",
       "      <td>adventure</td>\n",
       "    </tr>\n",
       "    <tr>\n",
       "      <th>216</th>\n",
       "      <td>[comedy, romance]</td>\n",
       "      <td>[comedy, romance]</td>\n",
       "      <td>romantic comedy</td>\n",
       "    </tr>\n",
       "    <tr>\n",
       "      <th>217</th>\n",
       "      <td>[]</td>\n",
       "      <td>[propaganda]</td>\n",
       "      <td>propaganda</td>\n",
       "    </tr>\n",
       "    <tr>\n",
       "      <th>218</th>\n",
       "      <td>[action]</td>\n",
       "      <td>[action, propaganda]</td>\n",
       "      <td>ww1 propaganda</td>\n",
       "    </tr>\n",
       "    <tr>\n",
       "      <th>219</th>\n",
       "      <td>[action]</td>\n",
       "      <td>[action]</td>\n",
       "      <td>western</td>\n",
       "    </tr>\n",
       "  </tbody>\n",
       "</table>\n",
       "</div>"
      ],
      "text/plain": [
       "        GenreSplitMain            GenreSplit            Genre\n",
       "200            [drama]               [drama]            drama\n",
       "201            [drama]               [drama]            drama\n",
       "202           [comedy]              [comedy]           comedy\n",
       "203            [drama]               [drama]            drama\n",
       "204           [comedy]              [comedy]           comedy\n",
       "205    [comedy, drama]       [comedy, drama]     comedy drama\n",
       "206          [mystery]             [mystery]          mystery\n",
       "207            [drama]               [drama]            drama\n",
       "208            [drama]               [drama]            drama\n",
       "209    [comedy, drama]       [comedy, drama]     comedy drama\n",
       "210           [comedy]              [comedy]           comedy\n",
       "211          [fantasy]             [fantasy]          fantasy\n",
       "212            [drama]               [drama]            drama\n",
       "213    [action, drama]       [action, drama]        war drama\n",
       "214    [action, drama]       [action, drama]        war drama\n",
       "215           [action]              [action]        adventure\n",
       "216  [comedy, romance]     [comedy, romance]  romantic comedy\n",
       "217                 []          [propaganda]       propaganda\n",
       "218           [action]  [action, propaganda]   ww1 propaganda\n",
       "219           [action]              [action]          western"
      ]
     },
     "execution_count": 29,
     "metadata": {},
     "output_type": "execute_result"
    }
   ],
   "source": [
    "movies[['GenreSplitMain','GenreSplit','Genre']][200:220]"
   ]
  },
  {
   "cell_type": "code",
   "execution_count": 30,
   "id": "b70c509b-0ec3-4910-b4bc-e362bdd6a3f3",
   "metadata": {},
   "outputs": [],
   "source": [
    "# Functions for cleaning the plots of the movies\n",
    "def clean_text(text):\n",
    "    text = text.lower()\n",
    "    text = re.sub(r\"what's\", \"what is \", text)\n",
    "    text = re.sub(r\"\\'s\", \" \", text)\n",
    "    text = re.sub(r\"\\'ve\", \" have \", text)\n",
    "    text = re.sub(r\"can't\", \"can not \", text)\n",
    "    text = re.sub(r\"n't\", \" not \", text)\n",
    "    text = re.sub(r\"i'm\", \"i am \", text)\n",
    "    text = re.sub(r\"\\'re\", \" are \", text)\n",
    "    text = re.sub(r\"\\'d\", \" would \", text)\n",
    "    text = re.sub(r\"\\'ll\", \" will \", text)\n",
    "    text = re.sub(r\"\\'scuse\", \" excuse \", text)\n",
    "    #text = re.sub('\\W', ' ', text)\n",
    "    #text = re.sub('\\s+', ' ', text)\n",
    "    text = text.strip(' ')\n",
    "    return text"
   ]
  },
  {
   "cell_type": "code",
   "execution_count": 31,
   "id": "226c5aec-ffc1-4452-b91a-83ec0927555c",
   "metadata": {},
   "outputs": [
    {
     "data": {
      "text/plain": [
       "['the rarebit fiend gorges on welsh rarebit at a restaurant. when he leaves, he begins to get dizzy as he starts to hallucinate. he desperately tries to hang onto a lamppost as the world spins all around him. a man helps him get home. he falls into bed and begins having more hallucinatory dreams. during a dream sequence, the furniture begins moving around the room. imps emerge from a floating welsh rarebit container and begin poking his head as he sleeps. his bed then begins dancing and spinning wildly around the room before flying out the window with the fiend in it. the bed floats across the city as the fiend floats up and off the bed. he hangs off the back and eventually gets caught on a weathervane atop a steeple. his bedclothes tear and he falls from the sky, crashing through his bedroom ceiling. the fiend awakens from the dream after falling out of his bed.',\n",
       " 'the film features a train traveling through the rockies and a hold up created by two thugs placing logs on the line. they systematically rob the wealthy occupants at gunpoint and then make their getaway along the tracks and later by a hi-jacked horse and cart.']"
      ]
     },
     "execution_count": 31,
     "metadata": {},
     "output_type": "execute_result"
    }
   ],
   "source": [
    "list(movies['Plot'][10:12].apply(clean_text))"
   ]
  },
  {
   "cell_type": "code",
   "execution_count": 32,
   "id": "bef063dd-1e90-49c6-959a-7500627fdc06",
   "metadata": {},
   "outputs": [
    {
     "data": {
      "text/plain": [
       "['The Rarebit Fiend gorges on Welsh rarebit at a restaurant. When he leaves, he begins to get dizzy as he starts to hallucinate. He desperately tries to hang onto a lamppost as the world spins all around him. A man helps him get home. He falls into bed and begins having more hallucinatory dreams. During a dream sequence, the furniture begins moving around the room. Imps emerge from a floating Welsh rarebit container and begin poking his head as he sleeps. His bed then begins dancing and spinning wildly around the room before flying out the window with the Fiend in it. The bed floats across the city as the Fiend floats up and off the bed. He hangs off the back and eventually gets caught on a weathervane atop a steeple. His bedclothes tear and he falls from the sky, crashing through his bedroom ceiling. The Fiend awakens from the dream after falling out of his bed.',\n",
       " 'The film features a train traveling through the Rockies and a hold up created by two thugs placing logs on the line. They systematically rob the wealthy occupants at gunpoint and then make their getaway along the tracks and later by a hi-jacked horse and cart.']"
      ]
     },
     "execution_count": 32,
     "metadata": {},
     "output_type": "execute_result"
    }
   ],
   "source": [
    "list(movies['Plot'][10:12])"
   ]
  },
  {
   "cell_type": "code",
   "execution_count": 33,
   "id": "ef3dcf64-c308-41da-acd0-82e99290a3f0",
   "metadata": {},
   "outputs": [],
   "source": [
    "movies['PlotClean'] = movies['Plot'].apply(clean_text)"
   ]
  },
  {
   "cell_type": "code",
   "execution_count": 34,
   "id": "87b5943a-8377-48e1-81be-2eebfb02ce56",
   "metadata": {},
   "outputs": [
    {
     "data": {
      "text/html": [
       "<div>\n",
       "<style scoped>\n",
       "    .dataframe tbody tr th:only-of-type {\n",
       "        vertical-align: middle;\n",
       "    }\n",
       "\n",
       "    .dataframe tbody tr th {\n",
       "        vertical-align: top;\n",
       "    }\n",
       "\n",
       "    .dataframe thead th {\n",
       "        text-align: right;\n",
       "    }\n",
       "</style>\n",
       "<table border=\"1\" class=\"dataframe\">\n",
       "  <thead>\n",
       "    <tr style=\"text-align: right;\">\n",
       "      <th></th>\n",
       "      <th>Plot</th>\n",
       "      <th>PlotClean</th>\n",
       "      <th>GenreSplitMain</th>\n",
       "    </tr>\n",
       "  </thead>\n",
       "  <tbody>\n",
       "    <tr>\n",
       "      <th>6</th>\n",
       "      <td>The film opens with two bandits breaking into ...</td>\n",
       "      <td>the film opens with two bandits breaking into ...</td>\n",
       "      <td>[action]</td>\n",
       "    </tr>\n",
       "    <tr>\n",
       "      <th>7</th>\n",
       "      <td>The film is about a family who move to the sub...</td>\n",
       "      <td>the film is about a family who move to the sub...</td>\n",
       "      <td>[comedy]</td>\n",
       "    </tr>\n",
       "    <tr>\n",
       "      <th>8</th>\n",
       "      <td>The opening scene shows the interior of the ro...</td>\n",
       "      <td>the opening scene shows the interior of the ro...</td>\n",
       "      <td>[]</td>\n",
       "    </tr>\n",
       "    <tr>\n",
       "      <th>9</th>\n",
       "      <td>Scenes are introduced using lines of the poem....</td>\n",
       "      <td>scenes are introduced using lines of the poem....</td>\n",
       "      <td>[]</td>\n",
       "    </tr>\n",
       "    <tr>\n",
       "      <th>10</th>\n",
       "      <td>The Rarebit Fiend gorges on Welsh rarebit at a...</td>\n",
       "      <td>the rarebit fiend gorges on welsh rarebit at a...</td>\n",
       "      <td>[short]</td>\n",
       "    </tr>\n",
       "    <tr>\n",
       "      <th>11</th>\n",
       "      <td>The film features a train traveling through th...</td>\n",
       "      <td>the film features a train traveling through th...</td>\n",
       "      <td>[action, crime, short]</td>\n",
       "    </tr>\n",
       "  </tbody>\n",
       "</table>\n",
       "</div>"
      ],
      "text/plain": [
       "                                                 Plot  \\\n",
       "6   The film opens with two bandits breaking into ...   \n",
       "7   The film is about a family who move to the sub...   \n",
       "8   The opening scene shows the interior of the ro...   \n",
       "9   Scenes are introduced using lines of the poem....   \n",
       "10  The Rarebit Fiend gorges on Welsh rarebit at a...   \n",
       "11  The film features a train traveling through th...   \n",
       "\n",
       "                                            PlotClean          GenreSplitMain  \n",
       "6   the film opens with two bandits breaking into ...                [action]  \n",
       "7   the film is about a family who move to the sub...                [comedy]  \n",
       "8   the opening scene shows the interior of the ro...                      []  \n",
       "9   scenes are introduced using lines of the poem....                      []  \n",
       "10  the rarebit fiend gorges on welsh rarebit at a...                 [short]  \n",
       "11  the film features a train traveling through th...  [action, crime, short]  "
      ]
     },
     "execution_count": 34,
     "metadata": {},
     "output_type": "execute_result"
    }
   ],
   "source": [
    "movies[['Plot','PlotClean','GenreSplitMain']][6:12]"
   ]
  },
  {
   "cell_type": "code",
   "execution_count": 35,
   "id": "23494a10-4ed8-4ab3-ab03-79ada7a0e7eb",
   "metadata": {},
   "outputs": [
    {
     "data": {
      "text/plain": [
       "0"
      ]
     },
     "execution_count": 35,
     "metadata": {},
     "output_type": "execute_result"
    }
   ],
   "source": [
    "len(movies['GenreSplitMain'][0])"
   ]
  },
  {
   "cell_type": "code",
   "execution_count": 36,
   "id": "2823de8e-0bc9-49c8-a74c-cd57c48514f3",
   "metadata": {},
   "outputs": [
    {
     "data": {
      "text/plain": [
       "0    0\n",
       "1    0\n",
       "2    0\n",
       "3    0\n",
       "4    0\n",
       "Name: GenreSplitMain, dtype: int64"
      ]
     },
     "execution_count": 36,
     "metadata": {},
     "output_type": "execute_result"
    }
   ],
   "source": [
    "movies['GenreSplitMain'][0:5].apply(len)"
   ]
  },
  {
   "cell_type": "code",
   "execution_count": 37,
   "id": "cae8669f-ce1d-4c04-9afb-81e78172e7f0",
   "metadata": {},
   "outputs": [],
   "source": [
    "movies['MainGenresCount'] = movies['GenreSplitMain'].apply(len)"
   ]
  },
  {
   "cell_type": "code",
   "execution_count": 38,
   "id": "05dfe93b-8dea-4a83-9065-5b0c04e73182",
   "metadata": {},
   "outputs": [
    {
     "data": {
      "text/plain": [
       "7"
      ]
     },
     "execution_count": 38,
     "metadata": {},
     "output_type": "execute_result"
    }
   ],
   "source": [
    "max(movies['MainGenresCount'] )"
   ]
  },
  {
   "cell_type": "code",
   "execution_count": 39,
   "id": "86d83a80-1109-4b69-a426-44f64a360bbd",
   "metadata": {},
   "outputs": [
    {
     "data": {
      "text/html": [
       "<div>\n",
       "<style scoped>\n",
       "    .dataframe tbody tr th:only-of-type {\n",
       "        vertical-align: middle;\n",
       "    }\n",
       "\n",
       "    .dataframe tbody tr th {\n",
       "        vertical-align: top;\n",
       "    }\n",
       "\n",
       "    .dataframe thead th {\n",
       "        text-align: right;\n",
       "    }\n",
       "</style>\n",
       "<table border=\"1\" class=\"dataframe\">\n",
       "  <thead>\n",
       "    <tr style=\"text-align: right;\">\n",
       "      <th></th>\n",
       "      <th>Release Year</th>\n",
       "      <th>Title</th>\n",
       "      <th>Origin/Ethnicity</th>\n",
       "      <th>Director</th>\n",
       "      <th>Cast</th>\n",
       "      <th>Genre</th>\n",
       "      <th>Wiki Page</th>\n",
       "      <th>Plot</th>\n",
       "      <th>Count</th>\n",
       "      <th>GenreCorrected</th>\n",
       "      <th>GenreSplit</th>\n",
       "      <th>GenreSplitMain</th>\n",
       "      <th>PlotClean</th>\n",
       "      <th>MainGenresCount</th>\n",
       "    </tr>\n",
       "  </thead>\n",
       "  <tbody>\n",
       "    <tr>\n",
       "      <th>17314</th>\n",
       "      <td>2017</td>\n",
       "      <td>American Made</td>\n",
       "      <td>American</td>\n",
       "      <td>Doug Liman</td>\n",
       "      <td>Doug Liman (director); Gary Spinelli (screenpl...</td>\n",
       "      <td>biography, action, comedy, crime, drama, histo...</td>\n",
       "      <td>https://en.wikipedia.org/wiki/American_Made_(f...</td>\n",
       "      <td>In the late 1970s, Barry Seal, a pilot for com...</td>\n",
       "      <td>1</td>\n",
       "      <td>biography|action|comedy|crime|drama|history|th...</td>\n",
       "      <td>[action, biography, comedy, crime, drama, hist...</td>\n",
       "      <td>[action, biography, comedy, crime, drama, hist...</td>\n",
       "      <td>in the late 1970s, barry seal, a pilot for com...</td>\n",
       "      <td>7</td>\n",
       "    </tr>\n",
       "  </tbody>\n",
       "</table>\n",
       "</div>"
      ],
      "text/plain": [
       "       Release Year          Title Origin/Ethnicity    Director  \\\n",
       "17314          2017  American Made         American  Doug Liman   \n",
       "\n",
       "                                                    Cast  \\\n",
       "17314  Doug Liman (director); Gary Spinelli (screenpl...   \n",
       "\n",
       "                                                   Genre  \\\n",
       "17314  biography, action, comedy, crime, drama, histo...   \n",
       "\n",
       "                                               Wiki Page  \\\n",
       "17314  https://en.wikipedia.org/wiki/American_Made_(f...   \n",
       "\n",
       "                                                    Plot  Count  \\\n",
       "17314  In the late 1970s, Barry Seal, a pilot for com...      1   \n",
       "\n",
       "                                          GenreCorrected  \\\n",
       "17314  biography|action|comedy|crime|drama|history|th...   \n",
       "\n",
       "                                              GenreSplit  \\\n",
       "17314  [action, biography, comedy, crime, drama, hist...   \n",
       "\n",
       "                                          GenreSplitMain  \\\n",
       "17314  [action, biography, comedy, crime, drama, hist...   \n",
       "\n",
       "                                               PlotClean  MainGenresCount  \n",
       "17314  in the late 1970s, barry seal, a pilot for com...                7  "
      ]
     },
     "execution_count": 39,
     "metadata": {},
     "output_type": "execute_result"
    }
   ],
   "source": [
    "movies[movies['MainGenresCount']==7]"
   ]
  },
  {
   "cell_type": "code",
   "execution_count": 40,
   "id": "09689239-442c-448d-a47c-6eb6d39219d4",
   "metadata": {},
   "outputs": [
    {
     "data": {
      "image/png": "[encoded data removed]",
      "text/plain": [
       "<Figure size 720x360 with 1 Axes>"
      ]
     },
     "metadata": {
      "needs_background": "light"
     },
     "output_type": "display_data"
    }
   ],
   "source": [
    "movies['MainGenresCount'].hist(figsize = (10,5))\n",
    "\n",
    "plt.title(\"Number of movies by number of genres\")\n",
    "plt.ylabel('No of movies', fontsize=12)\n",
    "plt.xlabel('No of genres', fontsize=12)\n",
    "plt.show()"
   ]
  },
  {
   "cell_type": "markdown",
   "id": "2acb4452-d4a9-4b3a-816e-d5fbbf15d8b7",
   "metadata": {},
   "source": [
    "#### Classifier Training\n",
    "\n",
    "- Count Vectorizer\n",
    "- TF-IDF Vectorizers"
   ]
  },
  {
   "cell_type": "code",
   "execution_count": 41,
   "id": "77fe4352-68cc-4c6d-941a-3cbd62a24dd4",
   "metadata": {},
   "outputs": [],
   "source": [
    "txt = [\"He is ::having a great Time, at the park time?\",\n",
    "       \"She, unlike most women, is a big player on the park's grass.\",\n",
    "       \"she can't be going\"]"
   ]
  },
  {
   "cell_type": "code",
   "execution_count": 42,
   "id": "e0fd6ef1-cb97-4ea4-a2eb-ce4af2843dba",
   "metadata": {},
   "outputs": [
    {
     "data": {
      "text/plain": [
       "['He is ::having a great Time, at the park time?',\n",
       " \"She, unlike most women, is a big player on the park's grass.\",\n",
       " \"she can't be going\"]"
      ]
     },
     "execution_count": 42,
     "metadata": {},
     "output_type": "execute_result"
    }
   ],
   "source": [
    "txt"
   ]
  },
  {
   "cell_type": "code",
   "execution_count": 43,
   "id": "7edc3ca8-0a41-414d-a8e6-fae4a0c12854",
   "metadata": {},
   "outputs": [],
   "source": [
    "# Initializing a CountVectorizer object\n",
    "count_vec = CountVectorizer(stop_words=\"english\", analyzer='word', \n",
    "                            ngram_range=(1, 1), max_df=1.0, min_df=1, max_features=None)"
   ]
  },
  {
   "cell_type": "code",
   "execution_count": 44,
   "id": "2f97894c-bbd1-40f2-8db9-82e11d38a7f3",
   "metadata": {},
   "outputs": [
    {
     "name": "stdout",
     "output_type": "stream",
     "text": [
      "Every feature:\n",
      "['big', 'going', 'grass', 'great', 'having', 'park', 'player', 'time', 'unlike', 'women']\n",
      "\n",
      "Every 3rd feature:\n",
      "['big', 'great', 'player', 'women']\n"
     ]
    },
    {
     "name": "stderr",
     "output_type": "stream",
     "text": [
      "/Users/raghul/opt/anaconda3/lib/python3.8/site-packages/sklearn/utils/deprecation.py:87: FutureWarning: Function get_feature_names is deprecated; get_feature_names is deprecated in 1.0 and will be removed in 1.2. Please use get_feature_names_out instead.\n",
      "  warnings.warn(msg, category=FutureWarning)\n"
     ]
    }
   ],
   "source": [
    "# Transforming the data into a bag of words\n",
    "count_train = count_vec.fit(txt)\n",
    "bag_of_words = count_vec.transform(txt)\n",
    "\n",
    "# Printing the first 10 features of the count_vec\n",
    "print(\"Every feature:\\n{}\".format(count_vec.get_feature_names()))\n",
    "print(\"\\nEvery 3rd feature:\\n{}\".format(count_vec.get_feature_names()[::3]))"
   ]
  },
  {
   "cell_type": "code",
   "execution_count": 45,
   "id": "1112a3a7-cbd2-43e8-818b-10146c275aab",
   "metadata": {},
   "outputs": [
    {
     "data": {
      "text/plain": [
       "array([[0, 0, 0, 1, 1, 1, 0, 2, 0, 0],\n",
       "       [1, 0, 1, 0, 0, 1, 1, 0, 1, 1],\n",
       "       [0, 1, 0, 0, 0, 0, 0, 0, 0, 0]])"
      ]
     },
     "execution_count": 45,
     "metadata": {},
     "output_type": "execute_result"
    }
   ],
   "source": [
    "count_vec.fit_transform(txt).toarray()"
   ]
  },
  {
   "cell_type": "code",
   "execution_count": 46,
   "id": "33a38e40-0b2d-4382-9551-d1cc3e7c7b9a",
   "metadata": {},
   "outputs": [
    {
     "data": {
      "text/plain": [
       "['big', 'going', 'grass', 'great']"
      ]
     },
     "execution_count": 46,
     "metadata": {},
     "output_type": "execute_result"
    }
   ],
   "source": [
    "count_vec.get_feature_names()[:4]"
   ]
  },
  {
   "cell_type": "code",
   "execution_count": 47,
   "id": "452946c3-e9aa-4915-acd8-3bb45595cf1a",
   "metadata": {},
   "outputs": [
    {
     "data": {
      "text/html": [
       "<div>\n",
       "<style scoped>\n",
       "    .dataframe tbody tr th:only-of-type {\n",
       "        vertical-align: middle;\n",
       "    }\n",
       "\n",
       "    .dataframe tbody tr th {\n",
       "        vertical-align: top;\n",
       "    }\n",
       "\n",
       "    .dataframe thead th {\n",
       "        text-align: right;\n",
       "    }\n",
       "</style>\n",
       "<table border=\"1\" class=\"dataframe\">\n",
       "  <thead>\n",
       "    <tr style=\"text-align: right;\">\n",
       "      <th></th>\n",
       "      <th>0</th>\n",
       "      <th>1</th>\n",
       "      <th>2</th>\n",
       "    </tr>\n",
       "  </thead>\n",
       "  <tbody>\n",
       "    <tr>\n",
       "      <th>6</th>\n",
       "      <td>action</td>\n",
       "      <td>None</td>\n",
       "      <td>None</td>\n",
       "    </tr>\n",
       "    <tr>\n",
       "      <th>7</th>\n",
       "      <td>comedy</td>\n",
       "      <td>None</td>\n",
       "      <td>None</td>\n",
       "    </tr>\n",
       "    <tr>\n",
       "      <th>8</th>\n",
       "      <td></td>\n",
       "      <td>None</td>\n",
       "      <td>None</td>\n",
       "    </tr>\n",
       "    <tr>\n",
       "      <th>9</th>\n",
       "      <td></td>\n",
       "      <td>None</td>\n",
       "      <td>None</td>\n",
       "    </tr>\n",
       "    <tr>\n",
       "      <th>10</th>\n",
       "      <td>short</td>\n",
       "      <td>None</td>\n",
       "      <td>None</td>\n",
       "    </tr>\n",
       "    <tr>\n",
       "      <th>11</th>\n",
       "      <td>action</td>\n",
       "      <td>crime</td>\n",
       "      <td>short</td>\n",
       "    </tr>\n",
       "    <tr>\n",
       "      <th>12</th>\n",
       "      <td>short</td>\n",
       "      <td>None</td>\n",
       "      <td>None</td>\n",
       "    </tr>\n",
       "    <tr>\n",
       "      <th>13</th>\n",
       "      <td>biography</td>\n",
       "      <td>None</td>\n",
       "      <td>None</td>\n",
       "    </tr>\n",
       "    <tr>\n",
       "      <th>14</th>\n",
       "      <td>comedy</td>\n",
       "      <td>None</td>\n",
       "      <td>None</td>\n",
       "    </tr>\n",
       "  </tbody>\n",
       "</table>\n",
       "</div>"
      ],
      "text/plain": [
       "            0      1      2\n",
       "6      action   None   None\n",
       "7      comedy   None   None\n",
       "8               None   None\n",
       "9               None   None\n",
       "10      short   None   None\n",
       "11     action  crime  short\n",
       "12      short   None   None\n",
       "13  biography   None   None\n",
       "14     comedy   None   None"
      ]
     },
     "execution_count": 47,
     "metadata": {},
     "output_type": "execute_result"
    }
   ],
   "source": [
    "z = movies.GenreSplitMain.str.split()\n",
    "movies.GenreSplitMain[6:15].apply(lambda x: '-'.join(x)).str.split(pat='-',n=5,expand=True)"
   ]
  },
  {
   "cell_type": "code",
   "execution_count": 48,
   "id": "5de8b4c6-4866-450c-bac3-c536843902d4",
   "metadata": {},
   "outputs": [
    {
     "data": {
      "text/html": [
       "<div>\n",
       "<style scoped>\n",
       "    .dataframe tbody tr th:only-of-type {\n",
       "        vertical-align: middle;\n",
       "    }\n",
       "\n",
       "    .dataframe tbody tr th {\n",
       "        vertical-align: top;\n",
       "    }\n",
       "\n",
       "    .dataframe thead th {\n",
       "        text-align: right;\n",
       "    }\n",
       "</style>\n",
       "<table border=\"1\" class=\"dataframe\">\n",
       "  <thead>\n",
       "    <tr style=\"text-align: right;\">\n",
       "      <th></th>\n",
       "      <th>action</th>\n",
       "      <th>biography</th>\n",
       "      <th>comedy</th>\n",
       "      <th>crime</th>\n",
       "      <th>short</th>\n",
       "    </tr>\n",
       "  </thead>\n",
       "  <tbody>\n",
       "    <tr>\n",
       "      <th>6</th>\n",
       "      <td>1</td>\n",
       "      <td>0</td>\n",
       "      <td>0</td>\n",
       "      <td>0</td>\n",
       "      <td>0</td>\n",
       "    </tr>\n",
       "    <tr>\n",
       "      <th>7</th>\n",
       "      <td>0</td>\n",
       "      <td>0</td>\n",
       "      <td>1</td>\n",
       "      <td>0</td>\n",
       "      <td>0</td>\n",
       "    </tr>\n",
       "    <tr>\n",
       "      <th>8</th>\n",
       "      <td>0</td>\n",
       "      <td>0</td>\n",
       "      <td>0</td>\n",
       "      <td>0</td>\n",
       "      <td>0</td>\n",
       "    </tr>\n",
       "    <tr>\n",
       "      <th>9</th>\n",
       "      <td>0</td>\n",
       "      <td>0</td>\n",
       "      <td>0</td>\n",
       "      <td>0</td>\n",
       "      <td>0</td>\n",
       "    </tr>\n",
       "    <tr>\n",
       "      <th>10</th>\n",
       "      <td>0</td>\n",
       "      <td>0</td>\n",
       "      <td>0</td>\n",
       "      <td>0</td>\n",
       "      <td>1</td>\n",
       "    </tr>\n",
       "    <tr>\n",
       "      <th>11</th>\n",
       "      <td>1</td>\n",
       "      <td>0</td>\n",
       "      <td>0</td>\n",
       "      <td>1</td>\n",
       "      <td>1</td>\n",
       "    </tr>\n",
       "    <tr>\n",
       "      <th>12</th>\n",
       "      <td>0</td>\n",
       "      <td>0</td>\n",
       "      <td>0</td>\n",
       "      <td>0</td>\n",
       "      <td>1</td>\n",
       "    </tr>\n",
       "    <tr>\n",
       "      <th>13</th>\n",
       "      <td>0</td>\n",
       "      <td>1</td>\n",
       "      <td>0</td>\n",
       "      <td>0</td>\n",
       "      <td>0</td>\n",
       "    </tr>\n",
       "    <tr>\n",
       "      <th>14</th>\n",
       "      <td>0</td>\n",
       "      <td>0</td>\n",
       "      <td>1</td>\n",
       "      <td>0</td>\n",
       "      <td>0</td>\n",
       "    </tr>\n",
       "  </tbody>\n",
       "</table>\n",
       "</div>"
      ],
      "text/plain": [
       "    action  biography  comedy  crime  short\n",
       "6        1          0       0      0      0\n",
       "7        0          0       1      0      0\n",
       "8        0          0       0      0      0\n",
       "9        0          0       0      0      0\n",
       "10       0          0       0      0      1\n",
       "11       1          0       0      1      1\n",
       "12       0          0       0      0      1\n",
       "13       0          1       0      0      0\n",
       "14       0          0       1      0      0"
      ]
     },
     "execution_count": 48,
     "metadata": {},
     "output_type": "execute_result"
    }
   ],
   "source": [
    "movies.GenreSplitMain[6:15].apply(lambda x: '-'.join(x)).str.get_dummies(sep='-')"
   ]
  },
  {
   "cell_type": "code",
   "execution_count": 49,
   "id": "493a898c-b71e-426f-9066-bb60c4e05f79",
   "metadata": {},
   "outputs": [
    {
     "data": {
      "text/plain": [
       "6                   [action]\n",
       "7                   [comedy]\n",
       "8                         []\n",
       "9                         []\n",
       "10                   [short]\n",
       "11    [action, crime, short]\n",
       "12                   [short]\n",
       "13               [biography]\n",
       "14                  [comedy]\n",
       "Name: GenreSplitMain, dtype: object"
      ]
     },
     "execution_count": 49,
     "metadata": {},
     "output_type": "execute_result"
    }
   ],
   "source": [
    "movies.GenreSplitMain[6:15]"
   ]
  },
  {
   "cell_type": "code",
   "execution_count": 50,
   "id": "20fa1e62-3d7b-42ae-8869-837e528ca752",
   "metadata": {},
   "outputs": [
    {
     "data": {
      "text/plain": [
       "Index(['Release Year', 'Title', 'Origin/Ethnicity', 'Director', 'Cast',\n",
       "       'Genre', 'Wiki Page', 'Plot', 'Count', 'GenreCorrected', 'GenreSplit',\n",
       "       'GenreSplitMain', 'PlotClean', 'MainGenresCount'],\n",
       "      dtype='object')"
      ]
     },
     "execution_count": 50,
     "metadata": {},
     "output_type": "execute_result"
    }
   ],
   "source": [
    "movies.columns"
   ]
  },
  {
   "cell_type": "code",
   "execution_count": 51,
   "id": "580c64de-081f-42ea-b812-b0c7a81a14a4",
   "metadata": {},
   "outputs": [
    {
     "data": {
      "text/plain": [
       "(34886, 14)"
      ]
     },
     "execution_count": 51,
     "metadata": {},
     "output_type": "execute_result"
    }
   ],
   "source": [
    "movies.shape"
   ]
  },
  {
   "cell_type": "code",
   "execution_count": 52,
   "id": "c93b97d3-de02-4927-a11f-efd54a570329",
   "metadata": {},
   "outputs": [
    {
     "data": {
      "text/plain": [
       "32432"
      ]
     },
     "execution_count": 52,
     "metadata": {},
     "output_type": "execute_result"
    }
   ],
   "source": [
    "# Titles that are not unique\n",
    "len(movies.Title.unique()) "
   ]
  },
  {
   "cell_type": "code",
   "execution_count": 53,
   "id": "dbab0c7d-6798-4614-bdb4-529cd0679438",
   "metadata": {},
   "outputs": [
    {
     "data": {
      "text/plain": [
       "(6206, 14)"
      ]
     },
     "execution_count": 53,
     "metadata": {},
     "output_type": "execute_result"
    }
   ],
   "source": [
    "# Movies without genre\n",
    "movies[movies.GenreCorrected==''].shape"
   ]
  },
  {
   "cell_type": "markdown",
   "id": "f5077e33-7fe9-469c-ad51-7f41ad919d10",
   "metadata": {},
   "source": [
    "#### Classification Algorithm\n",
    "\n",
    " - Creating classes: One dummy variable for each genre\n",
    " - Split the data in train and test\n",
    " - TfidfVectorizer"
   ]
  },
  {
   "cell_type": "code",
   "execution_count": 54,
   "id": "e35f4096-752e-4977-802e-72bde31e1342",
   "metadata": {},
   "outputs": [],
   "source": [
    "# Creating a dummy class\n",
    "movies = pd.concat([movies, movies.GenreSplitMain.apply(lambda x: '-'.join(x)).str.get_dummies(sep='-')], axis=1)"
   ]
  },
  {
   "cell_type": "code",
   "execution_count": 55,
   "id": "317f526f-4535-4f0f-a94c-60d7aeb0ba8f",
   "metadata": {},
   "outputs": [],
   "source": [
    "# Creating a train_test_split\n",
    "MoviesTrain, MoviesTest = train_test_split(movies[movies.GenreCorrected!=''], random_state=42, test_size=0.30, shuffle=True)"
   ]
  },
  {
   "cell_type": "markdown",
   "id": "f19aa292-6e94-45bb-9e16-5421edbb4565",
   "metadata": {},
   "source": [
    "#### Feature Extraction"
   ]
  },
  {
   "cell_type": "code",
   "execution_count": 56,
   "id": "4dba1627-4196-4a5c-b65d-0cd3c93e83b1",
   "metadata": {},
   "outputs": [],
   "source": [
    "# definition the algorithm for feature extraction\n",
    "tfidf = TfidfVectorizer(stop_words ='english', smooth_idf=False, sublinear_tf=False, norm=None, analyzer='word')"
   ]
  },
  {
   "cell_type": "code",
   "execution_count": 57,
   "id": "f0aafc79-bcde-45be-a5b2-3cd4054797a2",
   "metadata": {},
   "outputs": [],
   "source": [
    "# Building the features (\"Dimensionality mismatch\")\n",
    "x_train = tfidf.fit_transform(MoviesTrain.PlotClean) \n",
    "x_test  = tfidf.transform(MoviesTest.PlotClean)"
   ]
  },
  {
   "cell_type": "code",
   "execution_count": 58,
   "id": "40c33a74-209a-471f-9ec3-4805eac3a340",
   "metadata": {},
   "outputs": [
    {
     "name": "stdout",
     "output_type": "stream",
     "text": [
      "nrow of the MoviesTrain =20076\n"
     ]
    }
   ],
   "source": [
    "print('nrow of the MoviesTrain ={}'. format(MoviesTrain.shape[0]))"
   ]
  },
  {
   "cell_type": "code",
   "execution_count": 59,
   "id": "9c17e9f5-d545-434e-a531-0b3ffd48e744",
   "metadata": {},
   "outputs": [
    {
     "name": "stdout",
     "output_type": "stream",
     "text": [
      "nrow of the MoviesTest =8604\n"
     ]
    }
   ],
   "source": [
    "print('nrow of the MoviesTest ={}'. format(MoviesTest.shape[0]))"
   ]
  },
  {
   "cell_type": "code",
   "execution_count": 60,
   "id": "c3349718-98b7-4123-a7f2-000c926c163c",
   "metadata": {},
   "outputs": [
    {
     "data": {
      "text/plain": [
       "scipy.sparse.csr.csr_matrix"
      ]
     },
     "execution_count": 60,
     "metadata": {},
     "output_type": "execute_result"
    }
   ],
   "source": [
    "type(x_train)"
   ]
  },
  {
   "cell_type": "code",
   "execution_count": 61,
   "id": "122b9dff-16dd-47fa-ab50-6fb54589b0d8",
   "metadata": {},
   "outputs": [
    {
     "data": {
      "text/plain": [
       "array([[0., 0., 0., ..., 0., 0., 0.],\n",
       "       [0., 0., 0., ..., 0., 0., 0.],\n",
       "       [0., 0., 0., ..., 0., 0., 0.],\n",
       "       ...,\n",
       "       [0., 0., 0., ..., 0., 0., 0.],\n",
       "       [0., 0., 0., ..., 0., 0., 0.],\n",
       "       [0., 0., 0., ..., 0., 0., 0.]])"
      ]
     },
     "execution_count": 61,
     "metadata": {},
     "output_type": "execute_result"
    }
   ],
   "source": [
    "x_train.toarray()"
   ]
  },
  {
   "cell_type": "code",
   "execution_count": 62,
   "id": "46804fbe-b481-433e-9d09-5265bcd4a7e0",
   "metadata": {},
   "outputs": [
    {
     "data": {
      "text/plain": [
       "[array(['1930s', '1937', 'abilities', 'able', 'accept', 'accepts',\n",
       "        'acquaintance', 'actively', 'adversely', 'affects', 'aggressive',\n",
       "        'agrees', 'aide', 'allow', 'amidst', 'apartment', 'arena', 'army',\n",
       "        'arouses', 'arrives', 'artist', 'artists', 'arts', 'attempts',\n",
       "        'away', 'bag', 'bandit', 'bandits', 'barely', 'barrage', 'battle',\n",
       "        'beaten', 'beating', 'beats', 'blows', 'bruce', 'brutal',\n",
       "        'challenge', 'challenges', 'chance', 'chaos', 'cheered', 'child',\n",
       "        'chinese', 'ching', 'chow', 'chuen', 'chun', 'claimed', 'closed',\n",
       "        'coal', 'colleagues', 'collect', 'colonel', 'come', 'compete',\n",
       "        'competitions', 'consents', 'conserve', 'contain', 'cotton',\n",
       "        'crowd', 'days', 'declines', 'decrepit', 'defeat', 'defeats',\n",
       "        'defends', 'defense', 'demands', 'desperate', 'despite', 'direct',\n",
       "        'disciples', 'discussing', 'displays', 'does', 'door', 'earlier',\n",
       "        'earn', 'effective', 'embarrassing', 'energy', 'enhanced',\n",
       "        'enraged', 'epilogue', 'equally', 'escaped', 'establishes',\n",
       "        'eventually', 'exhibited', 'extort', 'family', 'feels', 'fellow',\n",
       "        'fight', 'fighters', 'fighting', 'figures', 'finally', 'finds',\n",
       "        'flee', 'food', 'forced', 'forshan', 'foshan', 'friend',\n",
       "        'friendly', 'friends', 'gang', 'general', 'grows', 'gun', 'harass',\n",
       "        'harassing', 'having', 'headquarters', 'held', 'help', 'highly',\n",
       "        'hong', 'house', 'hub', 'humiliation', 'igniting', 'impatient',\n",
       "        'impeccable', 'incapacitates', 'including', 'independent',\n",
       "        'inflicting', 'insist', 'instead', 'instruct', 'invasion',\n",
       "        'invisible', 'ip', 'japanese', 'jin', 'karate', 'karateka',\n",
       "        'killed', 'kills', 'kong', 'later', 'learn', 'led', 'lee', 'lets',\n",
       "        'li', 'life', 'lin', 'liu', 'local', 'lose', 'love', 'maintains',\n",
       "        'man', 'martial', 'master', 'masters', 'match', 'matched',\n",
       "        'matches', 'meeting', 'mercilessly', 'midway', 'military', 'miura',\n",
       "        'money', 'moves', 'need', 'northern', 'occupied', 'offers',\n",
       "        'officer', 'overwhelm', 'owns', 'participate', 'personally',\n",
       "        'police', 'practiced', 'pride', 'professional', 'profile',\n",
       "        'protection', 'public', 'rage', 'recruit', 'refuses', 'refusing',\n",
       "        'regional', 'relentless', 'reputation', 'resentful', 'respected',\n",
       "        'restraint', 'return', 'returning', 'reveals', 'rice', 'robbers',\n",
       "        'room', 'rude', 'runs', 'sadistic', 'sato', 'school', 'schools',\n",
       "        'scuffle', 'sees', 'self', 'sends', 'severe', 'shanzhao', 'shoots',\n",
       "        'shoulder', 'showing', 'skill', 'skilled', 'soldiers', 'son',\n",
       "        'southern', 'spared', 'spending', 'spends', 'square', 'students',\n",
       "        'stylists', 'support', 'survived', 'taken', 'takes', 'taught',\n",
       "        'teach', 'techniques', 'tells', 'time', 'trainees', 'training',\n",
       "        'trains', 'translator', 'trying', 'unassuming', 'upholding',\n",
       "        'used', 'using', 'various', 'visits', 'wants', 'warns', 'watch',\n",
       "        'watches', 'wealth', 'wealthy', 'wife', 'win', 'wing', 'winning',\n",
       "        'work', 'workers', 'working', 'zhao'], dtype='<U34')]"
      ]
     },
     "execution_count": 62,
     "metadata": {},
     "output_type": "execute_result"
    }
   ],
   "source": [
    "tfidf.inverse_transform(x_train[0].toarray())"
   ]
  },
  {
   "cell_type": "code",
   "execution_count": 63,
   "id": "bcee2003-916f-4213-94a3-b1c5aedde852",
   "metadata": {},
   "outputs": [
    {
     "name": "stdout",
     "output_type": "stream",
     "text": [
      "The corpus is huge. It contain 103411 words.\n"
     ]
    }
   ],
   "source": [
    "print('The corpus is huge. It contain {} words.'.format(len(x_train[0].toarray()[0])))"
   ]
  },
  {
   "cell_type": "code",
   "execution_count": 64,
   "id": "3ed94f58-6dde-41d9-8ccb-5eff08ba99a8",
   "metadata": {},
   "outputs": [],
   "source": [
    "# Building the classes\n",
    "y_train = MoviesTrain[MoviesTrain.columns[14:]]\n",
    "y_test = MoviesTest[MoviesTest.columns[14:]]"
   ]
  },
  {
   "cell_type": "code",
   "execution_count": 65,
   "id": "118e080c-a450-41ec-ae65-a7746f5dfa08",
   "metadata": {},
   "outputs": [
    {
     "data": {
      "text/plain": [
       "20"
      ]
     },
     "execution_count": 65,
     "metadata": {},
     "output_type": "execute_result"
    }
   ],
   "source": [
    "len(y_train.columns)"
   ]
  },
  {
   "cell_type": "code",
   "execution_count": 66,
   "id": "bfbcc631-dbd2-46c9-88fd-b16d986a33c6",
   "metadata": {},
   "outputs": [
    {
     "data": {
      "text/plain": [
       "20"
      ]
     },
     "execution_count": 66,
     "metadata": {},
     "output_type": "execute_result"
    }
   ],
   "source": [
    "len(y_test.columns)"
   ]
  },
  {
   "cell_type": "markdown",
   "id": "bf081d6e-697b-4946-adeb-d805227df8db",
   "metadata": {},
   "source": [
    "#### Multinomial Naive Bayes Classification"
   ]
  },
  {
   "cell_type": "code",
   "execution_count": 67,
   "id": "5d46eb45-a3a9-4ca2-a49e-2173cd747307",
   "metadata": {},
   "outputs": [],
   "source": [
    "multinomialNB=OneVsRestClassifier(MultinomialNB(fit_prior=True, class_prior=None))"
   ]
  },
  {
   "cell_type": "code",
   "execution_count": 68,
   "id": "31f1e774-efc5-4769-9701-247e6a6851d6",
   "metadata": {},
   "outputs": [
    {
     "data": {
      "text/plain": [
       "OneVsRestClassifier(estimator=MultinomialNB())"
      ]
     },
     "execution_count": 68,
     "metadata": {},
     "output_type": "execute_result"
    }
   ],
   "source": [
    "# Model Fitting\n",
    "multinomialNB.fit(x_train, y_train.action)"
   ]
  },
  {
   "cell_type": "code",
   "execution_count": 69,
   "id": "9d8db734-00a1-46b4-bd29-7244179f7d8e",
   "metadata": {},
   "outputs": [],
   "source": [
    "# Testing accuracy\n",
    "prediction = multinomialNB.predict(x_test)"
   ]
  },
  {
   "cell_type": "code",
   "execution_count": 70,
   "id": "4c52e3a0-e5bb-4af3-8fcf-8c42e998c09d",
   "metadata": {},
   "outputs": [
    {
     "name": "stdout",
     "output_type": "stream",
     "text": [
      "Test accuracy is 0.8265922826592282\n"
     ]
    }
   ],
   "source": [
    "print('Test accuracy is {}'.format(accuracy_score(y_test.action, prediction)))"
   ]
  },
  {
   "cell_type": "code",
   "execution_count": 71,
   "id": "ac86b738-db87-4826-80db-788644ae7438",
   "metadata": {},
   "outputs": [
    {
     "data": {
      "text/plain": [
       "20"
      ]
     },
     "execution_count": 71,
     "metadata": {},
     "output_type": "execute_result"
    }
   ],
   "source": [
    "len(mainGenres)"
   ]
  },
  {
   "cell_type": "markdown",
   "id": "921d1525-db87-49a1-987c-c91d05af3897",
   "metadata": {},
   "source": [
    "#### Multinomial Navie Bayes Classification for all the genre in the data"
   ]
  },
  {
   "cell_type": "code",
   "execution_count": 72,
   "id": "ceb70e2b-a0b9-480a-ab77-0c6d500e38f3",
   "metadata": {},
   "outputs": [
    {
     "data": {
      "text/html": [
       "<div>\n",
       "<style scoped>\n",
       "    .dataframe tbody tr th:only-of-type {\n",
       "        vertical-align: middle;\n",
       "    }\n",
       "\n",
       "    .dataframe tbody tr th {\n",
       "        vertical-align: top;\n",
       "    }\n",
       "\n",
       "    .dataframe thead th {\n",
       "        text-align: right;\n",
       "    }\n",
       "</style>\n",
       "<table border=\"1\" class=\"dataframe\">\n",
       "  <thead>\n",
       "    <tr style=\"text-align: right;\">\n",
       "      <th></th>\n",
       "      <th>Genre</th>\n",
       "      <th>accuracy_multinomialNB</th>\n",
       "    </tr>\n",
       "  </thead>\n",
       "  <tbody>\n",
       "  </tbody>\n",
       "</table>\n",
       "</div>"
      ],
      "text/plain": [
       "Empty DataFrame\n",
       "Columns: [Genre, accuracy_multinomialNB]\n",
       "Index: []"
      ]
     },
     "execution_count": 72,
     "metadata": {},
     "output_type": "execute_result"
    }
   ],
   "source": [
    "accuracy_multinomialNB=pd.DataFrame(columns=['Genre', 'accuracy_multinomialNB'])\n",
    "accuracy_multinomialNB.head()"
   ]
  },
  {
   "cell_type": "code",
   "execution_count": 73,
   "id": "211095ff-a698-4fd9-92de-3bdcdfd39f3a",
   "metadata": {},
   "outputs": [
    {
     "data": {
      "text/html": [
       "<div>\n",
       "<style scoped>\n",
       "    .dataframe tbody tr th:only-of-type {\n",
       "        vertical-align: middle;\n",
       "    }\n",
       "\n",
       "    .dataframe tbody tr th {\n",
       "        vertical-align: top;\n",
       "    }\n",
       "\n",
       "    .dataframe thead th {\n",
       "        text-align: right;\n",
       "    }\n",
       "</style>\n",
       "<table border=\"1\" class=\"dataframe\">\n",
       "  <thead>\n",
       "    <tr style=\"text-align: right;\">\n",
       "      <th></th>\n",
       "      <th>Genre</th>\n",
       "      <th>accuracy_multinomialNB</th>\n",
       "    </tr>\n",
       "  </thead>\n",
       "  <tbody>\n",
       "    <tr>\n",
       "      <th>0</th>\n",
       "      <td>drama</td>\n",
       "      <td>0.673756</td>\n",
       "    </tr>\n",
       "    <tr>\n",
       "      <th>1</th>\n",
       "      <td>comedy</td>\n",
       "      <td>0.733147</td>\n",
       "    </tr>\n",
       "    <tr>\n",
       "      <th>2</th>\n",
       "      <td>action</td>\n",
       "      <td>0.826592</td>\n",
       "    </tr>\n",
       "    <tr>\n",
       "      <th>3</th>\n",
       "      <td>thriller</td>\n",
       "      <td>0.884589</td>\n",
       "    </tr>\n",
       "    <tr>\n",
       "      <th>4</th>\n",
       "      <td>romance</td>\n",
       "      <td>0.843096</td>\n",
       "    </tr>\n",
       "    <tr>\n",
       "      <th>5</th>\n",
       "      <td>crime</td>\n",
       "      <td>0.911088</td>\n",
       "    </tr>\n",
       "    <tr>\n",
       "      <th>6</th>\n",
       "      <td>musical</td>\n",
       "      <td>0.937587</td>\n",
       "    </tr>\n",
       "    <tr>\n",
       "      <th>7</th>\n",
       "      <td>animation</td>\n",
       "      <td>0.973849</td>\n",
       "    </tr>\n",
       "    <tr>\n",
       "      <th>8</th>\n",
       "      <td>children</td>\n",
       "      <td>0.957578</td>\n",
       "    </tr>\n",
       "    <tr>\n",
       "      <th>9</th>\n",
       "      <td>fantasy</td>\n",
       "      <td>0.974314</td>\n",
       "    </tr>\n",
       "    <tr>\n",
       "      <th>10</th>\n",
       "      <td>mystery</td>\n",
       "      <td>0.974314</td>\n",
       "    </tr>\n",
       "    <tr>\n",
       "      <th>11</th>\n",
       "      <td>biography</td>\n",
       "      <td>0.967573</td>\n",
       "    </tr>\n",
       "    <tr>\n",
       "      <th>12</th>\n",
       "      <td>black</td>\n",
       "      <td>0.971292</td>\n",
       "    </tr>\n",
       "    <tr>\n",
       "      <th>13</th>\n",
       "      <td>history</td>\n",
       "      <td>0.98245</td>\n",
       "    </tr>\n",
       "    <tr>\n",
       "      <th>14</th>\n",
       "      <td>short</td>\n",
       "      <td>0.988726</td>\n",
       "    </tr>\n",
       "    <tr>\n",
       "      <th>15</th>\n",
       "      <td>documentary</td>\n",
       "      <td>0.992562</td>\n",
       "    </tr>\n",
       "    <tr>\n",
       "      <th>16</th>\n",
       "      <td>sports</td>\n",
       "      <td>0.991399</td>\n",
       "    </tr>\n",
       "    <tr>\n",
       "      <th>17</th>\n",
       "      <td>series</td>\n",
       "      <td>0.996048</td>\n",
       "    </tr>\n",
       "    <tr>\n",
       "      <th>18</th>\n",
       "      <td>adult</td>\n",
       "      <td>0.995932</td>\n",
       "    </tr>\n",
       "    <tr>\n",
       "      <th>19</th>\n",
       "      <td>political</td>\n",
       "      <td>0.995932</td>\n",
       "    </tr>\n",
       "  </tbody>\n",
       "</table>\n",
       "</div>"
      ],
      "text/plain": [
       "          Genre accuracy_multinomialNB\n",
       "0         drama               0.673756\n",
       "1        comedy               0.733147\n",
       "2        action               0.826592\n",
       "3      thriller               0.884589\n",
       "4       romance               0.843096\n",
       "5         crime               0.911088\n",
       "6       musical               0.937587\n",
       "7     animation               0.973849\n",
       "8      children               0.957578\n",
       "9       fantasy               0.974314\n",
       "10      mystery               0.974314\n",
       "11    biography               0.967573\n",
       "12        black               0.971292\n",
       "13      history                0.98245\n",
       "14        short               0.988726\n",
       "15  documentary               0.992562\n",
       "16       sports               0.991399\n",
       "17       series               0.996048\n",
       "18        adult               0.995932\n",
       "19    political               0.995932"
      ]
     },
     "execution_count": 73,
     "metadata": {},
     "output_type": "execute_result"
    }
   ],
   "source": [
    "i = 0\n",
    "for genre in mainGenres:\n",
    "    multinomialNB.fit(x_train, y_train[genre])\n",
    "    prediction = multinomialNB.predict(x_test)\n",
    "    accuracy_multinomialNB.loc[i,'Genre'] = genre\n",
    "    accuracy_multinomialNB.loc[i,'accuracy_multinomialNB'] = accuracy_score(y_test[genre], prediction)\n",
    "    i=i+1\n",
    "    \n",
    "\n",
    "    \n",
    "accuracy_multinomialNB"
   ]
  },
  {
   "cell_type": "markdown",
   "id": "6e5141d0-97a7-424b-8cc6-ab531f8efc15",
   "metadata": {},
   "source": [
    "#### Linear Support Vector Classification for all the genres"
   ]
  },
  {
   "cell_type": "code",
   "execution_count": 74,
   "id": "0f5136d5-50ad-4247-a659-f385f77c6229",
   "metadata": {},
   "outputs": [],
   "source": [
    "linearSVC=OneVsRestClassifier(LinearSVC(), n_jobs=1)"
   ]
  },
  {
   "cell_type": "code",
   "execution_count": 75,
   "id": "85c5d5e3-db0b-4477-9948-50060efaf364",
   "metadata": {},
   "outputs": [
    {
     "data": {
      "text/html": [
       "<div>\n",
       "<style scoped>\n",
       "    .dataframe tbody tr th:only-of-type {\n",
       "        vertical-align: middle;\n",
       "    }\n",
       "\n",
       "    .dataframe tbody tr th {\n",
       "        vertical-align: top;\n",
       "    }\n",
       "\n",
       "    .dataframe thead th {\n",
       "        text-align: right;\n",
       "    }\n",
       "</style>\n",
       "<table border=\"1\" class=\"dataframe\">\n",
       "  <thead>\n",
       "    <tr style=\"text-align: right;\">\n",
       "      <th></th>\n",
       "      <th>Genre</th>\n",
       "      <th>accuracy_LinearSVC</th>\n",
       "    </tr>\n",
       "  </thead>\n",
       "  <tbody>\n",
       "  </tbody>\n",
       "</table>\n",
       "</div>"
      ],
      "text/plain": [
       "Empty DataFrame\n",
       "Columns: [Genre, accuracy_LinearSVC]\n",
       "Index: []"
      ]
     },
     "execution_count": 75,
     "metadata": {},
     "output_type": "execute_result"
    }
   ],
   "source": [
    "accuracy_LinearSVC=pd.DataFrame(columns=['Genre', 'accuracy_LinearSVC'])\n",
    "accuracy_LinearSVC.head()"
   ]
  },
  {
   "cell_type": "code",
   "execution_count": 76,
   "id": "b70dca06-50b6-4b06-88d4-6ea3aec8136a",
   "metadata": {},
   "outputs": [
    {
     "name": "stderr",
     "output_type": "stream",
     "text": [
      "/Users/raghul/opt/anaconda3/lib/python3.8/site-packages/sklearn/svm/_base.py:1206: ConvergenceWarning: Liblinear failed to converge, increase the number of iterations.\n",
      "  warnings.warn(\n",
      "/Users/raghul/opt/anaconda3/lib/python3.8/site-packages/sklearn/svm/_base.py:1206: ConvergenceWarning: Liblinear failed to converge, increase the number of iterations.\n",
      "  warnings.warn(\n",
      "/Users/raghul/opt/anaconda3/lib/python3.8/site-packages/sklearn/svm/_base.py:1206: ConvergenceWarning: Liblinear failed to converge, increase the number of iterations.\n",
      "  warnings.warn(\n",
      "/Users/raghul/opt/anaconda3/lib/python3.8/site-packages/sklearn/svm/_base.py:1206: ConvergenceWarning: Liblinear failed to converge, increase the number of iterations.\n",
      "  warnings.warn(\n",
      "/Users/raghul/opt/anaconda3/lib/python3.8/site-packages/sklearn/svm/_base.py:1206: ConvergenceWarning: Liblinear failed to converge, increase the number of iterations.\n",
      "  warnings.warn(\n",
      "/Users/raghul/opt/anaconda3/lib/python3.8/site-packages/sklearn/svm/_base.py:1206: ConvergenceWarning: Liblinear failed to converge, increase the number of iterations.\n",
      "  warnings.warn(\n",
      "/Users/raghul/opt/anaconda3/lib/python3.8/site-packages/sklearn/svm/_base.py:1206: ConvergenceWarning: Liblinear failed to converge, increase the number of iterations.\n",
      "  warnings.warn(\n",
      "/Users/raghul/opt/anaconda3/lib/python3.8/site-packages/sklearn/svm/_base.py:1206: ConvergenceWarning: Liblinear failed to converge, increase the number of iterations.\n",
      "  warnings.warn(\n",
      "/Users/raghul/opt/anaconda3/lib/python3.8/site-packages/sklearn/svm/_base.py:1206: ConvergenceWarning: Liblinear failed to converge, increase the number of iterations.\n",
      "  warnings.warn(\n",
      "/Users/raghul/opt/anaconda3/lib/python3.8/site-packages/sklearn/svm/_base.py:1206: ConvergenceWarning: Liblinear failed to converge, increase the number of iterations.\n",
      "  warnings.warn(\n",
      "/Users/raghul/opt/anaconda3/lib/python3.8/site-packages/sklearn/svm/_base.py:1206: ConvergenceWarning: Liblinear failed to converge, increase the number of iterations.\n",
      "  warnings.warn(\n",
      "/Users/raghul/opt/anaconda3/lib/python3.8/site-packages/sklearn/svm/_base.py:1206: ConvergenceWarning: Liblinear failed to converge, increase the number of iterations.\n",
      "  warnings.warn(\n",
      "/Users/raghul/opt/anaconda3/lib/python3.8/site-packages/sklearn/svm/_base.py:1206: ConvergenceWarning: Liblinear failed to converge, increase the number of iterations.\n",
      "  warnings.warn(\n",
      "/Users/raghul/opt/anaconda3/lib/python3.8/site-packages/sklearn/svm/_base.py:1206: ConvergenceWarning: Liblinear failed to converge, increase the number of iterations.\n",
      "  warnings.warn(\n",
      "/Users/raghul/opt/anaconda3/lib/python3.8/site-packages/sklearn/svm/_base.py:1206: ConvergenceWarning: Liblinear failed to converge, increase the number of iterations.\n",
      "  warnings.warn(\n",
      "/Users/raghul/opt/anaconda3/lib/python3.8/site-packages/sklearn/svm/_base.py:1206: ConvergenceWarning: Liblinear failed to converge, increase the number of iterations.\n",
      "  warnings.warn(\n",
      "/Users/raghul/opt/anaconda3/lib/python3.8/site-packages/sklearn/svm/_base.py:1206: ConvergenceWarning: Liblinear failed to converge, increase the number of iterations.\n",
      "  warnings.warn(\n"
     ]
    }
   ],
   "source": [
    "i = 0\n",
    "for genre in mainGenres:\n",
    "    linearSVC.fit(x_train, y_train[genre])\n",
    "    prediction = linearSVC.predict(x_test)\n",
    "    accuracy_LinearSVC.loc[i,'Genre'] = genre\n",
    "    accuracy_LinearSVC.loc[i,'accuracy_LinearSVC'] = accuracy_score(y_test[genre], prediction)\n",
    "    i=i+1"
   ]
  },
  {
   "cell_type": "code",
   "execution_count": 77,
   "id": "25c0b916-406c-4ed7-b2d5-8d5776ca3779",
   "metadata": {},
   "outputs": [
    {
     "data": {
      "text/html": [
       "<div>\n",
       "<style scoped>\n",
       "    .dataframe tbody tr th:only-of-type {\n",
       "        vertical-align: middle;\n",
       "    }\n",
       "\n",
       "    .dataframe tbody tr th {\n",
       "        vertical-align: top;\n",
       "    }\n",
       "\n",
       "    .dataframe thead th {\n",
       "        text-align: right;\n",
       "    }\n",
       "</style>\n",
       "<table border=\"1\" class=\"dataframe\">\n",
       "  <thead>\n",
       "    <tr style=\"text-align: right;\">\n",
       "      <th></th>\n",
       "      <th>Genre</th>\n",
       "      <th>accuracy_LinearSVC</th>\n",
       "    </tr>\n",
       "  </thead>\n",
       "  <tbody>\n",
       "    <tr>\n",
       "      <th>0</th>\n",
       "      <td>drama</td>\n",
       "      <td>0.661669</td>\n",
       "    </tr>\n",
       "    <tr>\n",
       "      <th>1</th>\n",
       "      <td>comedy</td>\n",
       "      <td>0.746165</td>\n",
       "    </tr>\n",
       "    <tr>\n",
       "      <th>2</th>\n",
       "      <td>action</td>\n",
       "      <td>0.817178</td>\n",
       "    </tr>\n",
       "    <tr>\n",
       "      <th>3</th>\n",
       "      <td>thriller</td>\n",
       "      <td>0.884007</td>\n",
       "    </tr>\n",
       "    <tr>\n",
       "      <th>4</th>\n",
       "      <td>romance</td>\n",
       "      <td>0.882961</td>\n",
       "    </tr>\n",
       "    <tr>\n",
       "      <th>5</th>\n",
       "      <td>crime</td>\n",
       "      <td>0.924105</td>\n",
       "    </tr>\n",
       "    <tr>\n",
       "      <th>6</th>\n",
       "      <td>musical</td>\n",
       "      <td>0.956881</td>\n",
       "    </tr>\n",
       "    <tr>\n",
       "      <th>7</th>\n",
       "      <td>animation</td>\n",
       "      <td>0.977569</td>\n",
       "    </tr>\n",
       "    <tr>\n",
       "      <th>8</th>\n",
       "      <td>children</td>\n",
       "      <td>0.97013</td>\n",
       "    </tr>\n",
       "    <tr>\n",
       "      <th>9</th>\n",
       "      <td>fantasy</td>\n",
       "      <td>0.979777</td>\n",
       "    </tr>\n",
       "    <tr>\n",
       "      <th>10</th>\n",
       "      <td>mystery</td>\n",
       "      <td>0.980126</td>\n",
       "    </tr>\n",
       "    <tr>\n",
       "      <th>11</th>\n",
       "      <td>biography</td>\n",
       "      <td>0.982915</td>\n",
       "    </tr>\n",
       "    <tr>\n",
       "      <th>12</th>\n",
       "      <td>black</td>\n",
       "      <td>0.981172</td>\n",
       "    </tr>\n",
       "    <tr>\n",
       "      <th>13</th>\n",
       "      <td>history</td>\n",
       "      <td>0.989772</td>\n",
       "    </tr>\n",
       "    <tr>\n",
       "      <th>14</th>\n",
       "      <td>short</td>\n",
       "      <td>0.990934</td>\n",
       "    </tr>\n",
       "    <tr>\n",
       "      <th>15</th>\n",
       "      <td>documentary</td>\n",
       "      <td>0.995235</td>\n",
       "    </tr>\n",
       "    <tr>\n",
       "      <th>16</th>\n",
       "      <td>sports</td>\n",
       "      <td>0.994305</td>\n",
       "    </tr>\n",
       "    <tr>\n",
       "      <th>17</th>\n",
       "      <td>series</td>\n",
       "      <td>0.996629</td>\n",
       "    </tr>\n",
       "    <tr>\n",
       "      <th>18</th>\n",
       "      <td>adult</td>\n",
       "      <td>0.996862</td>\n",
       "    </tr>\n",
       "    <tr>\n",
       "      <th>19</th>\n",
       "      <td>political</td>\n",
       "      <td>0.997675</td>\n",
       "    </tr>\n",
       "  </tbody>\n",
       "</table>\n",
       "</div>"
      ],
      "text/plain": [
       "          Genre accuracy_LinearSVC\n",
       "0         drama           0.661669\n",
       "1        comedy           0.746165\n",
       "2        action           0.817178\n",
       "3      thriller           0.884007\n",
       "4       romance           0.882961\n",
       "5         crime           0.924105\n",
       "6       musical           0.956881\n",
       "7     animation           0.977569\n",
       "8      children            0.97013\n",
       "9       fantasy           0.979777\n",
       "10      mystery           0.980126\n",
       "11    biography           0.982915\n",
       "12        black           0.981172\n",
       "13      history           0.989772\n",
       "14        short           0.990934\n",
       "15  documentary           0.995235\n",
       "16       sports           0.994305\n",
       "17       series           0.996629\n",
       "18        adult           0.996862\n",
       "19    political           0.997675"
      ]
     },
     "execution_count": 77,
     "metadata": {},
     "output_type": "execute_result"
    }
   ],
   "source": [
    "accuracy_LinearSVC"
   ]
  },
  {
   "cell_type": "code",
   "execution_count": 78,
   "id": "851c650c-6d14-4775-9b16-24e8f39ad9e4",
   "metadata": {},
   "outputs": [],
   "source": [
    "# Merging both Multinomial Navie Bayes and Linear Support Vector accuracy tables\n",
    "accuracy_svc_mnb = pd.merge(accuracy_multinomialNB, accuracy_LinearSVC, on='Genre', how='inner')"
   ]
  },
  {
   "cell_type": "code",
   "execution_count": 79,
   "id": "c9c09b0c-b6ed-491a-8073-740f407380ef",
   "metadata": {},
   "outputs": [
    {
     "data": {
      "text/html": [
       "<div>\n",
       "<style scoped>\n",
       "    .dataframe tbody tr th:only-of-type {\n",
       "        vertical-align: middle;\n",
       "    }\n",
       "\n",
       "    .dataframe tbody tr th {\n",
       "        vertical-align: top;\n",
       "    }\n",
       "\n",
       "    .dataframe thead th {\n",
       "        text-align: right;\n",
       "    }\n",
       "</style>\n",
       "<table border=\"1\" class=\"dataframe\">\n",
       "  <thead>\n",
       "    <tr style=\"text-align: right;\">\n",
       "      <th></th>\n",
       "      <th>Genre</th>\n",
       "      <th>accuracy_multinomialNB</th>\n",
       "      <th>accuracy_LinearSVC</th>\n",
       "    </tr>\n",
       "  </thead>\n",
       "  <tbody>\n",
       "    <tr>\n",
       "      <th>0</th>\n",
       "      <td>drama</td>\n",
       "      <td>0.673756</td>\n",
       "      <td>0.661669</td>\n",
       "    </tr>\n",
       "    <tr>\n",
       "      <th>1</th>\n",
       "      <td>comedy</td>\n",
       "      <td>0.733147</td>\n",
       "      <td>0.746165</td>\n",
       "    </tr>\n",
       "    <tr>\n",
       "      <th>2</th>\n",
       "      <td>action</td>\n",
       "      <td>0.826592</td>\n",
       "      <td>0.817178</td>\n",
       "    </tr>\n",
       "    <tr>\n",
       "      <th>3</th>\n",
       "      <td>thriller</td>\n",
       "      <td>0.884589</td>\n",
       "      <td>0.884007</td>\n",
       "    </tr>\n",
       "    <tr>\n",
       "      <th>4</th>\n",
       "      <td>romance</td>\n",
       "      <td>0.843096</td>\n",
       "      <td>0.882961</td>\n",
       "    </tr>\n",
       "    <tr>\n",
       "      <th>5</th>\n",
       "      <td>crime</td>\n",
       "      <td>0.911088</td>\n",
       "      <td>0.924105</td>\n",
       "    </tr>\n",
       "    <tr>\n",
       "      <th>6</th>\n",
       "      <td>musical</td>\n",
       "      <td>0.937587</td>\n",
       "      <td>0.956881</td>\n",
       "    </tr>\n",
       "    <tr>\n",
       "      <th>7</th>\n",
       "      <td>animation</td>\n",
       "      <td>0.973849</td>\n",
       "      <td>0.977569</td>\n",
       "    </tr>\n",
       "    <tr>\n",
       "      <th>8</th>\n",
       "      <td>children</td>\n",
       "      <td>0.957578</td>\n",
       "      <td>0.97013</td>\n",
       "    </tr>\n",
       "    <tr>\n",
       "      <th>9</th>\n",
       "      <td>fantasy</td>\n",
       "      <td>0.974314</td>\n",
       "      <td>0.979777</td>\n",
       "    </tr>\n",
       "    <tr>\n",
       "      <th>10</th>\n",
       "      <td>mystery</td>\n",
       "      <td>0.974314</td>\n",
       "      <td>0.980126</td>\n",
       "    </tr>\n",
       "    <tr>\n",
       "      <th>11</th>\n",
       "      <td>biography</td>\n",
       "      <td>0.967573</td>\n",
       "      <td>0.982915</td>\n",
       "    </tr>\n",
       "    <tr>\n",
       "      <th>12</th>\n",
       "      <td>black</td>\n",
       "      <td>0.971292</td>\n",
       "      <td>0.981172</td>\n",
       "    </tr>\n",
       "    <tr>\n",
       "      <th>13</th>\n",
       "      <td>history</td>\n",
       "      <td>0.98245</td>\n",
       "      <td>0.989772</td>\n",
       "    </tr>\n",
       "    <tr>\n",
       "      <th>14</th>\n",
       "      <td>short</td>\n",
       "      <td>0.988726</td>\n",
       "      <td>0.990934</td>\n",
       "    </tr>\n",
       "    <tr>\n",
       "      <th>15</th>\n",
       "      <td>documentary</td>\n",
       "      <td>0.992562</td>\n",
       "      <td>0.995235</td>\n",
       "    </tr>\n",
       "    <tr>\n",
       "      <th>16</th>\n",
       "      <td>sports</td>\n",
       "      <td>0.991399</td>\n",
       "      <td>0.994305</td>\n",
       "    </tr>\n",
       "    <tr>\n",
       "      <th>17</th>\n",
       "      <td>series</td>\n",
       "      <td>0.996048</td>\n",
       "      <td>0.996629</td>\n",
       "    </tr>\n",
       "    <tr>\n",
       "      <th>18</th>\n",
       "      <td>adult</td>\n",
       "      <td>0.995932</td>\n",
       "      <td>0.996862</td>\n",
       "    </tr>\n",
       "    <tr>\n",
       "      <th>19</th>\n",
       "      <td>political</td>\n",
       "      <td>0.995932</td>\n",
       "      <td>0.997675</td>\n",
       "    </tr>\n",
       "  </tbody>\n",
       "</table>\n",
       "</div>"
      ],
      "text/plain": [
       "          Genre accuracy_multinomialNB accuracy_LinearSVC\n",
       "0         drama               0.673756           0.661669\n",
       "1        comedy               0.733147           0.746165\n",
       "2        action               0.826592           0.817178\n",
       "3      thriller               0.884589           0.884007\n",
       "4       romance               0.843096           0.882961\n",
       "5         crime               0.911088           0.924105\n",
       "6       musical               0.937587           0.956881\n",
       "7     animation               0.973849           0.977569\n",
       "8      children               0.957578            0.97013\n",
       "9       fantasy               0.974314           0.979777\n",
       "10      mystery               0.974314           0.980126\n",
       "11    biography               0.967573           0.982915\n",
       "12        black               0.971292           0.981172\n",
       "13      history                0.98245           0.989772\n",
       "14        short               0.988726           0.990934\n",
       "15  documentary               0.992562           0.995235\n",
       "16       sports               0.991399           0.994305\n",
       "17       series               0.996048           0.996629\n",
       "18        adult               0.995932           0.996862\n",
       "19    political               0.995932           0.997675"
      ]
     },
     "execution_count": 79,
     "metadata": {},
     "output_type": "execute_result"
    }
   ],
   "source": [
    "accuracy_svc_mnb"
   ]
  },
  {
   "cell_type": "markdown",
   "id": "ca8b7915-3fbf-480a-b2aa-19de48763ae0",
   "metadata": {},
   "source": [
    " - It is observed that both the classification gives almost similar accuracy score in the above constructed table."
   ]
  },
  {
   "cell_type": "code",
   "execution_count": 80,
   "id": "3175377f-b983-45ac-bc79-2482aa9e307d",
   "metadata": {},
   "outputs": [
    {
     "data": {
      "image/png": "[encoded data removed]",
      "text/plain": [
       "<Figure size 1296x720 with 1 Axes>"
      ]
     },
     "metadata": {
      "needs_background": "light"
     },
     "output_type": "display_data"
    }
   ],
   "source": [
    "plt.figure(figsize=(18,10))\n",
    "p1 =plt.bar(accuracy_svc_mnb.Genre, height=accuracy_svc_mnb.accuracy_multinomialNB)\n",
    "p2 =plt.bar(accuracy_svc_mnb.Genre, height=accuracy_svc_mnb.accuracy_LinearSVC)\n",
    "plt.xticks( rotation=90)\n",
    "plt.title(\"Movies genre classification accuracy (multinomialNB VS LinearSVC)\")\n",
    "plt.ylabel('accuracy', fontsize=14)\n",
    "plt.xlabel('Movie genres', fontsize=14)\n",
    "plt.legend((p1[0], p2[0]), ('multinomialNB', 'LinearSVC'))\n",
    "plt.show()"
   ]
  },
  {
   "cell_type": "markdown",
   "id": "1c53b07c-5b3e-4ada-8313-f648ac2e63c6",
   "metadata": {},
   "source": [
    " - <B> Note:</B> This graph is not showing the comparision between the two classifiers, instead it shows just the depletion between certain values."
   ]
  },
  {
   "cell_type": "code",
   "execution_count": 81,
   "id": "5415f404-25f9-4e19-b74a-843455dcf8cb",
   "metadata": {},
   "outputs": [],
   "source": [
    "accuracy_multinomialNB1 = accuracy_multinomialNB\n",
    "accuracy_multinomialNB1.columns = ['Genre', 'accuracy']\n",
    "accuracy_multinomialNB1['classifier'] = 'multinomialNB'"
   ]
  },
  {
   "cell_type": "code",
   "execution_count": 82,
   "id": "0dbbceec-bd69-493a-8f9f-7384fff7f25a",
   "metadata": {},
   "outputs": [
    {
     "data": {
      "text/html": [
       "<div>\n",
       "<style scoped>\n",
       "    .dataframe tbody tr th:only-of-type {\n",
       "        vertical-align: middle;\n",
       "    }\n",
       "\n",
       "    .dataframe tbody tr th {\n",
       "        vertical-align: top;\n",
       "    }\n",
       "\n",
       "    .dataframe thead th {\n",
       "        text-align: right;\n",
       "    }\n",
       "</style>\n",
       "<table border=\"1\" class=\"dataframe\">\n",
       "  <thead>\n",
       "    <tr style=\"text-align: right;\">\n",
       "      <th></th>\n",
       "      <th>Genre</th>\n",
       "      <th>accuracy</th>\n",
       "      <th>classifier</th>\n",
       "    </tr>\n",
       "  </thead>\n",
       "  <tbody>\n",
       "    <tr>\n",
       "      <th>0</th>\n",
       "      <td>drama</td>\n",
       "      <td>0.673756</td>\n",
       "      <td>multinomialNB</td>\n",
       "    </tr>\n",
       "    <tr>\n",
       "      <th>1</th>\n",
       "      <td>comedy</td>\n",
       "      <td>0.733147</td>\n",
       "      <td>multinomialNB</td>\n",
       "    </tr>\n",
       "    <tr>\n",
       "      <th>2</th>\n",
       "      <td>action</td>\n",
       "      <td>0.826592</td>\n",
       "      <td>multinomialNB</td>\n",
       "    </tr>\n",
       "    <tr>\n",
       "      <th>3</th>\n",
       "      <td>thriller</td>\n",
       "      <td>0.884589</td>\n",
       "      <td>multinomialNB</td>\n",
       "    </tr>\n",
       "    <tr>\n",
       "      <th>4</th>\n",
       "      <td>romance</td>\n",
       "      <td>0.843096</td>\n",
       "      <td>multinomialNB</td>\n",
       "    </tr>\n",
       "    <tr>\n",
       "      <th>5</th>\n",
       "      <td>crime</td>\n",
       "      <td>0.911088</td>\n",
       "      <td>multinomialNB</td>\n",
       "    </tr>\n",
       "    <tr>\n",
       "      <th>6</th>\n",
       "      <td>musical</td>\n",
       "      <td>0.937587</td>\n",
       "      <td>multinomialNB</td>\n",
       "    </tr>\n",
       "    <tr>\n",
       "      <th>7</th>\n",
       "      <td>animation</td>\n",
       "      <td>0.973849</td>\n",
       "      <td>multinomialNB</td>\n",
       "    </tr>\n",
       "    <tr>\n",
       "      <th>8</th>\n",
       "      <td>children</td>\n",
       "      <td>0.957578</td>\n",
       "      <td>multinomialNB</td>\n",
       "    </tr>\n",
       "    <tr>\n",
       "      <th>9</th>\n",
       "      <td>fantasy</td>\n",
       "      <td>0.974314</td>\n",
       "      <td>multinomialNB</td>\n",
       "    </tr>\n",
       "    <tr>\n",
       "      <th>10</th>\n",
       "      <td>mystery</td>\n",
       "      <td>0.974314</td>\n",
       "      <td>multinomialNB</td>\n",
       "    </tr>\n",
       "    <tr>\n",
       "      <th>11</th>\n",
       "      <td>biography</td>\n",
       "      <td>0.967573</td>\n",
       "      <td>multinomialNB</td>\n",
       "    </tr>\n",
       "    <tr>\n",
       "      <th>12</th>\n",
       "      <td>black</td>\n",
       "      <td>0.971292</td>\n",
       "      <td>multinomialNB</td>\n",
       "    </tr>\n",
       "    <tr>\n",
       "      <th>13</th>\n",
       "      <td>history</td>\n",
       "      <td>0.98245</td>\n",
       "      <td>multinomialNB</td>\n",
       "    </tr>\n",
       "    <tr>\n",
       "      <th>14</th>\n",
       "      <td>short</td>\n",
       "      <td>0.988726</td>\n",
       "      <td>multinomialNB</td>\n",
       "    </tr>\n",
       "    <tr>\n",
       "      <th>15</th>\n",
       "      <td>documentary</td>\n",
       "      <td>0.992562</td>\n",
       "      <td>multinomialNB</td>\n",
       "    </tr>\n",
       "    <tr>\n",
       "      <th>16</th>\n",
       "      <td>sports</td>\n",
       "      <td>0.991399</td>\n",
       "      <td>multinomialNB</td>\n",
       "    </tr>\n",
       "    <tr>\n",
       "      <th>17</th>\n",
       "      <td>series</td>\n",
       "      <td>0.996048</td>\n",
       "      <td>multinomialNB</td>\n",
       "    </tr>\n",
       "    <tr>\n",
       "      <th>18</th>\n",
       "      <td>adult</td>\n",
       "      <td>0.995932</td>\n",
       "      <td>multinomialNB</td>\n",
       "    </tr>\n",
       "    <tr>\n",
       "      <th>19</th>\n",
       "      <td>political</td>\n",
       "      <td>0.995932</td>\n",
       "      <td>multinomialNB</td>\n",
       "    </tr>\n",
       "  </tbody>\n",
       "</table>\n",
       "</div>"
      ],
      "text/plain": [
       "          Genre  accuracy     classifier\n",
       "0         drama  0.673756  multinomialNB\n",
       "1        comedy  0.733147  multinomialNB\n",
       "2        action  0.826592  multinomialNB\n",
       "3      thriller  0.884589  multinomialNB\n",
       "4       romance  0.843096  multinomialNB\n",
       "5         crime  0.911088  multinomialNB\n",
       "6       musical  0.937587  multinomialNB\n",
       "7     animation  0.973849  multinomialNB\n",
       "8      children  0.957578  multinomialNB\n",
       "9       fantasy  0.974314  multinomialNB\n",
       "10      mystery  0.974314  multinomialNB\n",
       "11    biography  0.967573  multinomialNB\n",
       "12        black  0.971292  multinomialNB\n",
       "13      history   0.98245  multinomialNB\n",
       "14        short  0.988726  multinomialNB\n",
       "15  documentary  0.992562  multinomialNB\n",
       "16       sports  0.991399  multinomialNB\n",
       "17       series  0.996048  multinomialNB\n",
       "18        adult  0.995932  multinomialNB\n",
       "19    political  0.995932  multinomialNB"
      ]
     },
     "execution_count": 82,
     "metadata": {},
     "output_type": "execute_result"
    }
   ],
   "source": [
    "accuracy_multinomialNB1"
   ]
  },
  {
   "cell_type": "code",
   "execution_count": 84,
   "id": "4c269b63-9287-4aaf-a831-f9403d88c704",
   "metadata": {},
   "outputs": [],
   "source": [
    "accuracy_LinearSVC1 = accuracy_LinearSVC\n",
    "accuracy_LinearSVC1.columns = ['Genre', 'accuracy']\n",
    "accuracy_LinearSVC1['classifier'] = 'linearSVC'"
   ]
  },
  {
   "cell_type": "code",
   "execution_count": 85,
   "id": "e37d185e-67a6-4fb5-867a-45c3df85c68f",
   "metadata": {},
   "outputs": [
    {
     "data": {
      "text/html": [
       "<div>\n",
       "<style scoped>\n",
       "    .dataframe tbody tr th:only-of-type {\n",
       "        vertical-align: middle;\n",
       "    }\n",
       "\n",
       "    .dataframe tbody tr th {\n",
       "        vertical-align: top;\n",
       "    }\n",
       "\n",
       "    .dataframe thead th {\n",
       "        text-align: right;\n",
       "    }\n",
       "</style>\n",
       "<table border=\"1\" class=\"dataframe\">\n",
       "  <thead>\n",
       "    <tr style=\"text-align: right;\">\n",
       "      <th></th>\n",
       "      <th>Genre</th>\n",
       "      <th>accuracy</th>\n",
       "      <th>classifier</th>\n",
       "    </tr>\n",
       "  </thead>\n",
       "  <tbody>\n",
       "    <tr>\n",
       "      <th>0</th>\n",
       "      <td>drama</td>\n",
       "      <td>0.661669</td>\n",
       "      <td>linearSVC</td>\n",
       "    </tr>\n",
       "    <tr>\n",
       "      <th>1</th>\n",
       "      <td>comedy</td>\n",
       "      <td>0.746165</td>\n",
       "      <td>linearSVC</td>\n",
       "    </tr>\n",
       "    <tr>\n",
       "      <th>2</th>\n",
       "      <td>action</td>\n",
       "      <td>0.817178</td>\n",
       "      <td>linearSVC</td>\n",
       "    </tr>\n",
       "    <tr>\n",
       "      <th>3</th>\n",
       "      <td>thriller</td>\n",
       "      <td>0.884007</td>\n",
       "      <td>linearSVC</td>\n",
       "    </tr>\n",
       "    <tr>\n",
       "      <th>4</th>\n",
       "      <td>romance</td>\n",
       "      <td>0.882961</td>\n",
       "      <td>linearSVC</td>\n",
       "    </tr>\n",
       "    <tr>\n",
       "      <th>5</th>\n",
       "      <td>crime</td>\n",
       "      <td>0.924105</td>\n",
       "      <td>linearSVC</td>\n",
       "    </tr>\n",
       "    <tr>\n",
       "      <th>6</th>\n",
       "      <td>musical</td>\n",
       "      <td>0.956881</td>\n",
       "      <td>linearSVC</td>\n",
       "    </tr>\n",
       "    <tr>\n",
       "      <th>7</th>\n",
       "      <td>animation</td>\n",
       "      <td>0.977569</td>\n",
       "      <td>linearSVC</td>\n",
       "    </tr>\n",
       "    <tr>\n",
       "      <th>8</th>\n",
       "      <td>children</td>\n",
       "      <td>0.97013</td>\n",
       "      <td>linearSVC</td>\n",
       "    </tr>\n",
       "    <tr>\n",
       "      <th>9</th>\n",
       "      <td>fantasy</td>\n",
       "      <td>0.979777</td>\n",
       "      <td>linearSVC</td>\n",
       "    </tr>\n",
       "    <tr>\n",
       "      <th>10</th>\n",
       "      <td>mystery</td>\n",
       "      <td>0.980126</td>\n",
       "      <td>linearSVC</td>\n",
       "    </tr>\n",
       "    <tr>\n",
       "      <th>11</th>\n",
       "      <td>biography</td>\n",
       "      <td>0.982915</td>\n",
       "      <td>linearSVC</td>\n",
       "    </tr>\n",
       "    <tr>\n",
       "      <th>12</th>\n",
       "      <td>black</td>\n",
       "      <td>0.981172</td>\n",
       "      <td>linearSVC</td>\n",
       "    </tr>\n",
       "    <tr>\n",
       "      <th>13</th>\n",
       "      <td>history</td>\n",
       "      <td>0.989772</td>\n",
       "      <td>linearSVC</td>\n",
       "    </tr>\n",
       "    <tr>\n",
       "      <th>14</th>\n",
       "      <td>short</td>\n",
       "      <td>0.990934</td>\n",
       "      <td>linearSVC</td>\n",
       "    </tr>\n",
       "    <tr>\n",
       "      <th>15</th>\n",
       "      <td>documentary</td>\n",
       "      <td>0.995235</td>\n",
       "      <td>linearSVC</td>\n",
       "    </tr>\n",
       "    <tr>\n",
       "      <th>16</th>\n",
       "      <td>sports</td>\n",
       "      <td>0.994305</td>\n",
       "      <td>linearSVC</td>\n",
       "    </tr>\n",
       "    <tr>\n",
       "      <th>17</th>\n",
       "      <td>series</td>\n",
       "      <td>0.996629</td>\n",
       "      <td>linearSVC</td>\n",
       "    </tr>\n",
       "    <tr>\n",
       "      <th>18</th>\n",
       "      <td>adult</td>\n",
       "      <td>0.996862</td>\n",
       "      <td>linearSVC</td>\n",
       "    </tr>\n",
       "    <tr>\n",
       "      <th>19</th>\n",
       "      <td>political</td>\n",
       "      <td>0.997675</td>\n",
       "      <td>linearSVC</td>\n",
       "    </tr>\n",
       "  </tbody>\n",
       "</table>\n",
       "</div>"
      ],
      "text/plain": [
       "          Genre  accuracy classifier\n",
       "0         drama  0.661669  linearSVC\n",
       "1        comedy  0.746165  linearSVC\n",
       "2        action  0.817178  linearSVC\n",
       "3      thriller  0.884007  linearSVC\n",
       "4       romance  0.882961  linearSVC\n",
       "5         crime  0.924105  linearSVC\n",
       "6       musical  0.956881  linearSVC\n",
       "7     animation  0.977569  linearSVC\n",
       "8      children   0.97013  linearSVC\n",
       "9       fantasy  0.979777  linearSVC\n",
       "10      mystery  0.980126  linearSVC\n",
       "11    biography  0.982915  linearSVC\n",
       "12        black  0.981172  linearSVC\n",
       "13      history  0.989772  linearSVC\n",
       "14        short  0.990934  linearSVC\n",
       "15  documentary  0.995235  linearSVC\n",
       "16       sports  0.994305  linearSVC\n",
       "17       series  0.996629  linearSVC\n",
       "18        adult  0.996862  linearSVC\n",
       "19    political  0.997675  linearSVC"
      ]
     },
     "execution_count": 85,
     "metadata": {},
     "output_type": "execute_result"
    }
   ],
   "source": [
    "accuracy_LinearSVC1"
   ]
  },
  {
   "cell_type": "code",
   "execution_count": 86,
   "id": "ce7d6032-0a3c-4255-b764-f7c13d926376",
   "metadata": {},
   "outputs": [],
   "source": [
    "accu_mnb_svc = accuracy_multinomialNB1.append(accuracy_LinearSVC1)"
   ]
  },
  {
   "cell_type": "code",
   "execution_count": 87,
   "id": "65cce26b-59e4-4eb9-9018-c116f37936f7",
   "metadata": {},
   "outputs": [
    {
     "data": {
      "text/html": [
       "<div>\n",
       "<style scoped>\n",
       "    .dataframe tbody tr th:only-of-type {\n",
       "        vertical-align: middle;\n",
       "    }\n",
       "\n",
       "    .dataframe tbody tr th {\n",
       "        vertical-align: top;\n",
       "    }\n",
       "\n",
       "    .dataframe thead th {\n",
       "        text-align: right;\n",
       "    }\n",
       "</style>\n",
       "<table border=\"1\" class=\"dataframe\">\n",
       "  <thead>\n",
       "    <tr style=\"text-align: right;\">\n",
       "      <th></th>\n",
       "      <th>Genre</th>\n",
       "      <th>accuracy</th>\n",
       "      <th>classifier</th>\n",
       "    </tr>\n",
       "  </thead>\n",
       "  <tbody>\n",
       "    <tr>\n",
       "      <th>0</th>\n",
       "      <td>drama</td>\n",
       "      <td>0.673756</td>\n",
       "      <td>multinomialNB</td>\n",
       "    </tr>\n",
       "    <tr>\n",
       "      <th>1</th>\n",
       "      <td>comedy</td>\n",
       "      <td>0.733147</td>\n",
       "      <td>multinomialNB</td>\n",
       "    </tr>\n",
       "    <tr>\n",
       "      <th>2</th>\n",
       "      <td>action</td>\n",
       "      <td>0.826592</td>\n",
       "      <td>multinomialNB</td>\n",
       "    </tr>\n",
       "    <tr>\n",
       "      <th>3</th>\n",
       "      <td>thriller</td>\n",
       "      <td>0.884589</td>\n",
       "      <td>multinomialNB</td>\n",
       "    </tr>\n",
       "    <tr>\n",
       "      <th>4</th>\n",
       "      <td>romance</td>\n",
       "      <td>0.843096</td>\n",
       "      <td>multinomialNB</td>\n",
       "    </tr>\n",
       "    <tr>\n",
       "      <th>5</th>\n",
       "      <td>crime</td>\n",
       "      <td>0.911088</td>\n",
       "      <td>multinomialNB</td>\n",
       "    </tr>\n",
       "    <tr>\n",
       "      <th>6</th>\n",
       "      <td>musical</td>\n",
       "      <td>0.937587</td>\n",
       "      <td>multinomialNB</td>\n",
       "    </tr>\n",
       "    <tr>\n",
       "      <th>7</th>\n",
       "      <td>animation</td>\n",
       "      <td>0.973849</td>\n",
       "      <td>multinomialNB</td>\n",
       "    </tr>\n",
       "    <tr>\n",
       "      <th>8</th>\n",
       "      <td>children</td>\n",
       "      <td>0.957578</td>\n",
       "      <td>multinomialNB</td>\n",
       "    </tr>\n",
       "    <tr>\n",
       "      <th>9</th>\n",
       "      <td>fantasy</td>\n",
       "      <td>0.974314</td>\n",
       "      <td>multinomialNB</td>\n",
       "    </tr>\n",
       "    <tr>\n",
       "      <th>10</th>\n",
       "      <td>mystery</td>\n",
       "      <td>0.974314</td>\n",
       "      <td>multinomialNB</td>\n",
       "    </tr>\n",
       "    <tr>\n",
       "      <th>11</th>\n",
       "      <td>biography</td>\n",
       "      <td>0.967573</td>\n",
       "      <td>multinomialNB</td>\n",
       "    </tr>\n",
       "    <tr>\n",
       "      <th>12</th>\n",
       "      <td>black</td>\n",
       "      <td>0.971292</td>\n",
       "      <td>multinomialNB</td>\n",
       "    </tr>\n",
       "    <tr>\n",
       "      <th>13</th>\n",
       "      <td>history</td>\n",
       "      <td>0.98245</td>\n",
       "      <td>multinomialNB</td>\n",
       "    </tr>\n",
       "    <tr>\n",
       "      <th>14</th>\n",
       "      <td>short</td>\n",
       "      <td>0.988726</td>\n",
       "      <td>multinomialNB</td>\n",
       "    </tr>\n",
       "    <tr>\n",
       "      <th>15</th>\n",
       "      <td>documentary</td>\n",
       "      <td>0.992562</td>\n",
       "      <td>multinomialNB</td>\n",
       "    </tr>\n",
       "    <tr>\n",
       "      <th>16</th>\n",
       "      <td>sports</td>\n",
       "      <td>0.991399</td>\n",
       "      <td>multinomialNB</td>\n",
       "    </tr>\n",
       "    <tr>\n",
       "      <th>17</th>\n",
       "      <td>series</td>\n",
       "      <td>0.996048</td>\n",
       "      <td>multinomialNB</td>\n",
       "    </tr>\n",
       "    <tr>\n",
       "      <th>18</th>\n",
       "      <td>adult</td>\n",
       "      <td>0.995932</td>\n",
       "      <td>multinomialNB</td>\n",
       "    </tr>\n",
       "    <tr>\n",
       "      <th>19</th>\n",
       "      <td>political</td>\n",
       "      <td>0.995932</td>\n",
       "      <td>multinomialNB</td>\n",
       "    </tr>\n",
       "    <tr>\n",
       "      <th>0</th>\n",
       "      <td>drama</td>\n",
       "      <td>0.661669</td>\n",
       "      <td>linearSVC</td>\n",
       "    </tr>\n",
       "    <tr>\n",
       "      <th>1</th>\n",
       "      <td>comedy</td>\n",
       "      <td>0.746165</td>\n",
       "      <td>linearSVC</td>\n",
       "    </tr>\n",
       "    <tr>\n",
       "      <th>2</th>\n",
       "      <td>action</td>\n",
       "      <td>0.817178</td>\n",
       "      <td>linearSVC</td>\n",
       "    </tr>\n",
       "    <tr>\n",
       "      <th>3</th>\n",
       "      <td>thriller</td>\n",
       "      <td>0.884007</td>\n",
       "      <td>linearSVC</td>\n",
       "    </tr>\n",
       "    <tr>\n",
       "      <th>4</th>\n",
       "      <td>romance</td>\n",
       "      <td>0.882961</td>\n",
       "      <td>linearSVC</td>\n",
       "    </tr>\n",
       "    <tr>\n",
       "      <th>5</th>\n",
       "      <td>crime</td>\n",
       "      <td>0.924105</td>\n",
       "      <td>linearSVC</td>\n",
       "    </tr>\n",
       "    <tr>\n",
       "      <th>6</th>\n",
       "      <td>musical</td>\n",
       "      <td>0.956881</td>\n",
       "      <td>linearSVC</td>\n",
       "    </tr>\n",
       "    <tr>\n",
       "      <th>7</th>\n",
       "      <td>animation</td>\n",
       "      <td>0.977569</td>\n",
       "      <td>linearSVC</td>\n",
       "    </tr>\n",
       "    <tr>\n",
       "      <th>8</th>\n",
       "      <td>children</td>\n",
       "      <td>0.97013</td>\n",
       "      <td>linearSVC</td>\n",
       "    </tr>\n",
       "    <tr>\n",
       "      <th>9</th>\n",
       "      <td>fantasy</td>\n",
       "      <td>0.979777</td>\n",
       "      <td>linearSVC</td>\n",
       "    </tr>\n",
       "    <tr>\n",
       "      <th>10</th>\n",
       "      <td>mystery</td>\n",
       "      <td>0.980126</td>\n",
       "      <td>linearSVC</td>\n",
       "    </tr>\n",
       "    <tr>\n",
       "      <th>11</th>\n",
       "      <td>biography</td>\n",
       "      <td>0.982915</td>\n",
       "      <td>linearSVC</td>\n",
       "    </tr>\n",
       "    <tr>\n",
       "      <th>12</th>\n",
       "      <td>black</td>\n",
       "      <td>0.981172</td>\n",
       "      <td>linearSVC</td>\n",
       "    </tr>\n",
       "    <tr>\n",
       "      <th>13</th>\n",
       "      <td>history</td>\n",
       "      <td>0.989772</td>\n",
       "      <td>linearSVC</td>\n",
       "    </tr>\n",
       "    <tr>\n",
       "      <th>14</th>\n",
       "      <td>short</td>\n",
       "      <td>0.990934</td>\n",
       "      <td>linearSVC</td>\n",
       "    </tr>\n",
       "    <tr>\n",
       "      <th>15</th>\n",
       "      <td>documentary</td>\n",
       "      <td>0.995235</td>\n",
       "      <td>linearSVC</td>\n",
       "    </tr>\n",
       "    <tr>\n",
       "      <th>16</th>\n",
       "      <td>sports</td>\n",
       "      <td>0.994305</td>\n",
       "      <td>linearSVC</td>\n",
       "    </tr>\n",
       "    <tr>\n",
       "      <th>17</th>\n",
       "      <td>series</td>\n",
       "      <td>0.996629</td>\n",
       "      <td>linearSVC</td>\n",
       "    </tr>\n",
       "    <tr>\n",
       "      <th>18</th>\n",
       "      <td>adult</td>\n",
       "      <td>0.996862</td>\n",
       "      <td>linearSVC</td>\n",
       "    </tr>\n",
       "    <tr>\n",
       "      <th>19</th>\n",
       "      <td>political</td>\n",
       "      <td>0.997675</td>\n",
       "      <td>linearSVC</td>\n",
       "    </tr>\n",
       "  </tbody>\n",
       "</table>\n",
       "</div>"
      ],
      "text/plain": [
       "          Genre  accuracy     classifier\n",
       "0         drama  0.673756  multinomialNB\n",
       "1        comedy  0.733147  multinomialNB\n",
       "2        action  0.826592  multinomialNB\n",
       "3      thriller  0.884589  multinomialNB\n",
       "4       romance  0.843096  multinomialNB\n",
       "5         crime  0.911088  multinomialNB\n",
       "6       musical  0.937587  multinomialNB\n",
       "7     animation  0.973849  multinomialNB\n",
       "8      children  0.957578  multinomialNB\n",
       "9       fantasy  0.974314  multinomialNB\n",
       "10      mystery  0.974314  multinomialNB\n",
       "11    biography  0.967573  multinomialNB\n",
       "12        black  0.971292  multinomialNB\n",
       "13      history   0.98245  multinomialNB\n",
       "14        short  0.988726  multinomialNB\n",
       "15  documentary  0.992562  multinomialNB\n",
       "16       sports  0.991399  multinomialNB\n",
       "17       series  0.996048  multinomialNB\n",
       "18        adult  0.995932  multinomialNB\n",
       "19    political  0.995932  multinomialNB\n",
       "0         drama  0.661669      linearSVC\n",
       "1        comedy  0.746165      linearSVC\n",
       "2        action  0.817178      linearSVC\n",
       "3      thriller  0.884007      linearSVC\n",
       "4       romance  0.882961      linearSVC\n",
       "5         crime  0.924105      linearSVC\n",
       "6       musical  0.956881      linearSVC\n",
       "7     animation  0.977569      linearSVC\n",
       "8      children   0.97013      linearSVC\n",
       "9       fantasy  0.979777      linearSVC\n",
       "10      mystery  0.980126      linearSVC\n",
       "11    biography  0.982915      linearSVC\n",
       "12        black  0.981172      linearSVC\n",
       "13      history  0.989772      linearSVC\n",
       "14        short  0.990934      linearSVC\n",
       "15  documentary  0.995235      linearSVC\n",
       "16       sports  0.994305      linearSVC\n",
       "17       series  0.996629      linearSVC\n",
       "18        adult  0.996862      linearSVC\n",
       "19    political  0.997675      linearSVC"
      ]
     },
     "execution_count": 87,
     "metadata": {},
     "output_type": "execute_result"
    }
   ],
   "source": [
    "accu_mnb_svc"
   ]
  },
  {
   "cell_type": "code",
   "execution_count": 88,
   "id": "e7c6405d-b95c-4e9a-b5d7-f226cbcdacd7",
   "metadata": {},
   "outputs": [
    {
     "data": {
      "text/plain": [
       "[Text(0, 0, 'drama'),\n",
       " Text(1, 0, 'comedy'),\n",
       " Text(2, 0, 'action'),\n",
       " Text(3, 0, 'thriller'),\n",
       " Text(4, 0, 'romance'),\n",
       " Text(5, 0, 'crime'),\n",
       " Text(6, 0, 'musical'),\n",
       " Text(7, 0, 'animation'),\n",
       " Text(8, 0, 'children'),\n",
       " Text(9, 0, 'fantasy'),\n",
       " Text(10, 0, 'mystery'),\n",
       " Text(11, 0, 'biography'),\n",
       " Text(12, 0, 'black'),\n",
       " Text(13, 0, 'history'),\n",
       " Text(14, 0, 'short'),\n",
       " Text(15, 0, 'documentary'),\n",
       " Text(16, 0, 'sports'),\n",
       " Text(17, 0, 'series'),\n",
       " Text(18, 0, 'adult'),\n",
       " Text(19, 0, 'political')]"
      ]
     },
     "execution_count": 88,
     "metadata": {},
     "output_type": "execute_result"
    },
    {
     "data": {
      "image/png": "[encoded data removed]",
      "text/plain": [
       "<Figure size 1296x720 with 1 Axes>"
      ]
     },
     "metadata": {},
     "output_type": "display_data"
    }
   ],
   "source": [
    "sns.set(rc={'figure.figsize':(18,10)})\n",
    "sns.set(style=\"whitegrid\")\n",
    "s = sns.barplot(x=\"Genre\", y=\"accuracy\", hue=\"classifier\", data=accu_mnb_svc) \n",
    "s.set_title('Movies genre classification accuracy (multinomialNB VS LinearSVC)', size=16)\n",
    "s.set_xticklabels(list(mainGenres) ,rotation=45, size=15)"
   ]
  },
  {
   "cell_type": "markdown",
   "id": "3e0db9db-be34-4bab-b5e5-786afd82abf8",
   "metadata": {},
   "source": [
    "#### Conclusion\n",
    "\n",
    " - Multinomial Navie Bayes Algorithm and Linear Support Vector Classification showed very good accuracy rate.\n",
    "\n",
    "     - Lowest Accuracy: 66%\n",
    "     - Highest Accuracy: 99%\n",
    " \n",
    "\n",
    "\n",
    " - Also, Multinomial Navie Bayes Classification is faster that LinearSVC.\n",
    " - Multinomial Navie Bayes Classification does not have any convergence issues compared to LinearSVC.\n",
    "\n",
    "-----------------------\n",
    "\n",
    "#### Limitations\n",
    " - LinearSVC did not converge for some genres.\n",
    " - The reliability of the accuracy rate needs further investigation."
   ]
  },
  {
   "cell_type": "code",
   "execution_count": null,
   "id": "08ceb850-fa34-4430-a3d3-870e5eda5de6",
   "metadata": {},
   "outputs": [],
   "source": []
  }
 ],
 "metadata": {
  "kernelspec": {
   "display_name": "Python 3 (ipykernel)",
   "language": "python",
   "name": "python3"
  },
  "language_info": {
   "codemirror_mode": {
    "name": "ipython",
    "version": 3
   },
   "file_extension": ".py",
   "mimetype": "text/x-python",
   "name": "python",
   "nbconvert_exporter": "python",
   "pygments_lexer": "ipython3",
   "version": "3.8.8"
  }
 },
 "nbformat": 4,
 "nbformat_minor": 5
}
